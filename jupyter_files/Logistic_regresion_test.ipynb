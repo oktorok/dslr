{
 "cells": [
  {
   "cell_type": "code",
   "execution_count": 12,
   "metadata": {},
   "outputs": [],
   "source": [
    "import pandas\n",
    "import numpy as np\n",
    "import matplotlib.pyplot as plt"
   ]
  },
  {
   "cell_type": "markdown",
   "metadata": {},
   "source": [
    "# GRADIENT DESCENDENT"
   ]
  },
  {
   "cell_type": "code",
   "execution_count": 17,
   "metadata": {},
   "outputs": [],
   "source": [
    "df = pandas.read_csv(\"../datasets/dataset_train.csv\")"
   ]
  },
  {
   "cell_type": "code",
   "execution_count": 18,
   "metadata": {},
   "outputs": [
    {
     "data": {
      "text/html": [
       "<div>\n",
       "<style scoped>\n",
       "    .dataframe tbody tr th:only-of-type {\n",
       "        vertical-align: middle;\n",
       "    }\n",
       "\n",
       "    .dataframe tbody tr th {\n",
       "        vertical-align: top;\n",
       "    }\n",
       "\n",
       "    .dataframe thead th {\n",
       "        text-align: right;\n",
       "    }\n",
       "</style>\n",
       "<table border=\"1\" class=\"dataframe\">\n",
       "  <thead>\n",
       "    <tr style=\"text-align: right;\">\n",
       "      <th></th>\n",
       "      <th>Index</th>\n",
       "      <th>Hogwarts House</th>\n",
       "      <th>First Name</th>\n",
       "      <th>Last Name</th>\n",
       "      <th>Birthday</th>\n",
       "      <th>Best Hand</th>\n",
       "      <th>Arithmancy</th>\n",
       "      <th>Astronomy</th>\n",
       "      <th>Herbology</th>\n",
       "      <th>Defense Against the Dark Arts</th>\n",
       "      <th>Divination</th>\n",
       "      <th>Muggle Studies</th>\n",
       "      <th>Ancient Runes</th>\n",
       "      <th>History of Magic</th>\n",
       "      <th>Transfiguration</th>\n",
       "      <th>Potions</th>\n",
       "      <th>Care of Magical Creatures</th>\n",
       "      <th>Charms</th>\n",
       "      <th>Flying</th>\n",
       "    </tr>\n",
       "  </thead>\n",
       "  <tbody>\n",
       "    <tr>\n",
       "      <th>0</th>\n",
       "      <td>0</td>\n",
       "      <td>Ravenclaw</td>\n",
       "      <td>Tamara</td>\n",
       "      <td>Hsu</td>\n",
       "      <td>2000-03-30</td>\n",
       "      <td>Left</td>\n",
       "      <td>58384.0</td>\n",
       "      <td>-487.886086</td>\n",
       "      <td>5.727180</td>\n",
       "      <td>4.878861</td>\n",
       "      <td>4.722</td>\n",
       "      <td>272.035831</td>\n",
       "      <td>532.484226</td>\n",
       "      <td>5.231058</td>\n",
       "      <td>1039.788281</td>\n",
       "      <td>3.790369</td>\n",
       "      <td>0.715939</td>\n",
       "      <td>-232.79405</td>\n",
       "      <td>-26.89</td>\n",
       "    </tr>\n",
       "    <tr>\n",
       "      <th>1</th>\n",
       "      <td>1</td>\n",
       "      <td>Slytherin</td>\n",
       "      <td>Erich</td>\n",
       "      <td>Paredes</td>\n",
       "      <td>1999-10-14</td>\n",
       "      <td>Right</td>\n",
       "      <td>67239.0</td>\n",
       "      <td>-552.060507</td>\n",
       "      <td>-5.987446</td>\n",
       "      <td>5.520605</td>\n",
       "      <td>-5.612</td>\n",
       "      <td>-487.340557</td>\n",
       "      <td>367.760303</td>\n",
       "      <td>4.107170</td>\n",
       "      <td>1058.944592</td>\n",
       "      <td>7.248742</td>\n",
       "      <td>0.091674</td>\n",
       "      <td>-252.18425</td>\n",
       "      <td>-113.45</td>\n",
       "    </tr>\n",
       "    <tr>\n",
       "      <th>2</th>\n",
       "      <td>2</td>\n",
       "      <td>Ravenclaw</td>\n",
       "      <td>Stephany</td>\n",
       "      <td>Braun</td>\n",
       "      <td>1999-11-03</td>\n",
       "      <td>Left</td>\n",
       "      <td>23702.0</td>\n",
       "      <td>-366.076117</td>\n",
       "      <td>7.725017</td>\n",
       "      <td>3.660761</td>\n",
       "      <td>6.140</td>\n",
       "      <td>664.893521</td>\n",
       "      <td>602.585284</td>\n",
       "      <td>3.555579</td>\n",
       "      <td>1088.088348</td>\n",
       "      <td>8.728531</td>\n",
       "      <td>-0.515327</td>\n",
       "      <td>-227.34265</td>\n",
       "      <td>30.42</td>\n",
       "    </tr>\n",
       "    <tr>\n",
       "      <th>3</th>\n",
       "      <td>3</td>\n",
       "      <td>Gryffindor</td>\n",
       "      <td>Vesta</td>\n",
       "      <td>Mcmichael</td>\n",
       "      <td>2000-08-19</td>\n",
       "      <td>Left</td>\n",
       "      <td>32667.0</td>\n",
       "      <td>697.742809</td>\n",
       "      <td>-6.497214</td>\n",
       "      <td>-6.977428</td>\n",
       "      <td>4.026</td>\n",
       "      <td>-537.001128</td>\n",
       "      <td>523.982133</td>\n",
       "      <td>-4.809637</td>\n",
       "      <td>920.391449</td>\n",
       "      <td>0.821911</td>\n",
       "      <td>-0.014040</td>\n",
       "      <td>-256.84675</td>\n",
       "      <td>200.64</td>\n",
       "    </tr>\n",
       "    <tr>\n",
       "      <th>4</th>\n",
       "      <td>4</td>\n",
       "      <td>Gryffindor</td>\n",
       "      <td>Gaston</td>\n",
       "      <td>Gibbs</td>\n",
       "      <td>1998-09-27</td>\n",
       "      <td>Left</td>\n",
       "      <td>60158.0</td>\n",
       "      <td>436.775204</td>\n",
       "      <td>-7.820623</td>\n",
       "      <td>NaN</td>\n",
       "      <td>2.236</td>\n",
       "      <td>-444.262537</td>\n",
       "      <td>599.324514</td>\n",
       "      <td>-3.444377</td>\n",
       "      <td>937.434724</td>\n",
       "      <td>4.311066</td>\n",
       "      <td>-0.264070</td>\n",
       "      <td>-256.38730</td>\n",
       "      <td>157.98</td>\n",
       "    </tr>\n",
       "    <tr>\n",
       "      <th>...</th>\n",
       "      <td>...</td>\n",
       "      <td>...</td>\n",
       "      <td>...</td>\n",
       "      <td>...</td>\n",
       "      <td>...</td>\n",
       "      <td>...</td>\n",
       "      <td>...</td>\n",
       "      <td>...</td>\n",
       "      <td>...</td>\n",
       "      <td>...</td>\n",
       "      <td>...</td>\n",
       "      <td>...</td>\n",
       "      <td>...</td>\n",
       "      <td>...</td>\n",
       "      <td>...</td>\n",
       "      <td>...</td>\n",
       "      <td>...</td>\n",
       "      <td>...</td>\n",
       "      <td>...</td>\n",
       "    </tr>\n",
       "    <tr>\n",
       "      <th>1595</th>\n",
       "      <td>1595</td>\n",
       "      <td>Gryffindor</td>\n",
       "      <td>Jung</td>\n",
       "      <td>Blank</td>\n",
       "      <td>2001-09-14</td>\n",
       "      <td>Right</td>\n",
       "      <td>49009.0</td>\n",
       "      <td>354.280086</td>\n",
       "      <td>-4.541837</td>\n",
       "      <td>-3.542801</td>\n",
       "      <td>5.702</td>\n",
       "      <td>-497.235066</td>\n",
       "      <td>618.220213</td>\n",
       "      <td>-5.231721</td>\n",
       "      <td>964.219853</td>\n",
       "      <td>3.389086</td>\n",
       "      <td>-0.649983</td>\n",
       "      <td>-250.39401</td>\n",
       "      <td>185.83</td>\n",
       "    </tr>\n",
       "    <tr>\n",
       "      <th>1596</th>\n",
       "      <td>1596</td>\n",
       "      <td>Slytherin</td>\n",
       "      <td>Shelli</td>\n",
       "      <td>Lock</td>\n",
       "      <td>1998-03-12</td>\n",
       "      <td>Left</td>\n",
       "      <td>63296.0</td>\n",
       "      <td>367.531174</td>\n",
       "      <td>6.061064</td>\n",
       "      <td>-3.675312</td>\n",
       "      <td>1.757</td>\n",
       "      <td>-643.271092</td>\n",
       "      <td>445.827565</td>\n",
       "      <td>2.238112</td>\n",
       "      <td>1056.147366</td>\n",
       "      <td>5.825263</td>\n",
       "      <td>-0.333962</td>\n",
       "      <td>-246.42719</td>\n",
       "      <td>44.80</td>\n",
       "    </tr>\n",
       "    <tr>\n",
       "      <th>1597</th>\n",
       "      <td>1597</td>\n",
       "      <td>Gryffindor</td>\n",
       "      <td>Benjamin</td>\n",
       "      <td>Christensen</td>\n",
       "      <td>1999-10-24</td>\n",
       "      <td>Right</td>\n",
       "      <td>63905.0</td>\n",
       "      <td>544.018925</td>\n",
       "      <td>-3.203269</td>\n",
       "      <td>-5.440189</td>\n",
       "      <td>6.065</td>\n",
       "      <td>-385.150457</td>\n",
       "      <td>635.211486</td>\n",
       "      <td>-5.984257</td>\n",
       "      <td>953.866685</td>\n",
       "      <td>1.709808</td>\n",
       "      <td>0.071569</td>\n",
       "      <td>-251.63679</td>\n",
       "      <td>198.47</td>\n",
       "    </tr>\n",
       "    <tr>\n",
       "      <th>1598</th>\n",
       "      <td>1598</td>\n",
       "      <td>Hufflepuff</td>\n",
       "      <td>Charlotte</td>\n",
       "      <td>Dillon</td>\n",
       "      <td>2001-09-21</td>\n",
       "      <td>Left</td>\n",
       "      <td>82713.0</td>\n",
       "      <td>453.676219</td>\n",
       "      <td>3.442831</td>\n",
       "      <td>-4.536762</td>\n",
       "      <td>6.738</td>\n",
       "      <td>-831.741123</td>\n",
       "      <td>383.444937</td>\n",
       "      <td>3.813111</td>\n",
       "      <td>1087.949205</td>\n",
       "      <td>3.904100</td>\n",
       "      <td>-0.531875</td>\n",
       "      <td>-246.19072</td>\n",
       "      <td>-76.81</td>\n",
       "    </tr>\n",
       "    <tr>\n",
       "      <th>1599</th>\n",
       "      <td>1599</td>\n",
       "      <td>Hufflepuff</td>\n",
       "      <td>Kylie</td>\n",
       "      <td>Nowak</td>\n",
       "      <td>2000-08-21</td>\n",
       "      <td>Left</td>\n",
       "      <td>48639.0</td>\n",
       "      <td>688.911989</td>\n",
       "      <td>5.421046</td>\n",
       "      <td>-6.889120</td>\n",
       "      <td>6.593</td>\n",
       "      <td>-234.207911</td>\n",
       "      <td>339.775154</td>\n",
       "      <td>7.208415</td>\n",
       "      <td>1034.928004</td>\n",
       "      <td>2.052215</td>\n",
       "      <td>0.150532</td>\n",
       "      <td>-244.02063</td>\n",
       "      <td>-54.77</td>\n",
       "    </tr>\n",
       "  </tbody>\n",
       "</table>\n",
       "<p>1600 rows × 19 columns</p>\n",
       "</div>"
      ],
      "text/plain": [
       "      Index Hogwarts House First Name    Last Name    Birthday Best Hand  \\\n",
       "0         0      Ravenclaw     Tamara          Hsu  2000-03-30      Left   \n",
       "1         1      Slytherin      Erich      Paredes  1999-10-14     Right   \n",
       "2         2      Ravenclaw   Stephany        Braun  1999-11-03      Left   \n",
       "3         3     Gryffindor      Vesta    Mcmichael  2000-08-19      Left   \n",
       "4         4     Gryffindor     Gaston        Gibbs  1998-09-27      Left   \n",
       "...     ...            ...        ...          ...         ...       ...   \n",
       "1595   1595     Gryffindor       Jung        Blank  2001-09-14     Right   \n",
       "1596   1596      Slytherin     Shelli         Lock  1998-03-12      Left   \n",
       "1597   1597     Gryffindor   Benjamin  Christensen  1999-10-24     Right   \n",
       "1598   1598     Hufflepuff  Charlotte       Dillon  2001-09-21      Left   \n",
       "1599   1599     Hufflepuff      Kylie        Nowak  2000-08-21      Left   \n",
       "\n",
       "      Arithmancy   Astronomy  Herbology  Defense Against the Dark Arts  \\\n",
       "0        58384.0 -487.886086   5.727180                       4.878861   \n",
       "1        67239.0 -552.060507  -5.987446                       5.520605   \n",
       "2        23702.0 -366.076117   7.725017                       3.660761   \n",
       "3        32667.0  697.742809  -6.497214                      -6.977428   \n",
       "4        60158.0  436.775204  -7.820623                            NaN   \n",
       "...          ...         ...        ...                            ...   \n",
       "1595     49009.0  354.280086  -4.541837                      -3.542801   \n",
       "1596     63296.0  367.531174   6.061064                      -3.675312   \n",
       "1597     63905.0  544.018925  -3.203269                      -5.440189   \n",
       "1598     82713.0  453.676219   3.442831                      -4.536762   \n",
       "1599     48639.0  688.911989   5.421046                      -6.889120   \n",
       "\n",
       "      Divination  Muggle Studies  Ancient Runes  History of Magic  \\\n",
       "0          4.722      272.035831     532.484226          5.231058   \n",
       "1         -5.612     -487.340557     367.760303          4.107170   \n",
       "2          6.140      664.893521     602.585284          3.555579   \n",
       "3          4.026     -537.001128     523.982133         -4.809637   \n",
       "4          2.236     -444.262537     599.324514         -3.444377   \n",
       "...          ...             ...            ...               ...   \n",
       "1595       5.702     -497.235066     618.220213         -5.231721   \n",
       "1596       1.757     -643.271092     445.827565          2.238112   \n",
       "1597       6.065     -385.150457     635.211486         -5.984257   \n",
       "1598       6.738     -831.741123     383.444937          3.813111   \n",
       "1599       6.593     -234.207911     339.775154          7.208415   \n",
       "\n",
       "      Transfiguration   Potions  Care of Magical Creatures     Charms  Flying  \n",
       "0         1039.788281  3.790369                   0.715939 -232.79405  -26.89  \n",
       "1         1058.944592  7.248742                   0.091674 -252.18425 -113.45  \n",
       "2         1088.088348  8.728531                  -0.515327 -227.34265   30.42  \n",
       "3          920.391449  0.821911                  -0.014040 -256.84675  200.64  \n",
       "4          937.434724  4.311066                  -0.264070 -256.38730  157.98  \n",
       "...               ...       ...                        ...        ...     ...  \n",
       "1595       964.219853  3.389086                  -0.649983 -250.39401  185.83  \n",
       "1596      1056.147366  5.825263                  -0.333962 -246.42719   44.80  \n",
       "1597       953.866685  1.709808                   0.071569 -251.63679  198.47  \n",
       "1598      1087.949205  3.904100                  -0.531875 -246.19072  -76.81  \n",
       "1599      1034.928004  2.052215                   0.150532 -244.02063  -54.77  \n",
       "\n",
       "[1600 rows x 19 columns]"
      ]
     },
     "execution_count": 18,
     "metadata": {},
     "output_type": "execute_result"
    }
   ],
   "source": [
    "df"
   ]
  },
  {
   "cell_type": "code",
   "execution_count": 19,
   "metadata": {},
   "outputs": [],
   "source": [
    "p = 100\n",
    "X = np.linspace(-3, 3, p)"
   ]
  },
  {
   "cell_type": "code",
   "execution_count": 20,
   "metadata": {},
   "outputs": [
    {
     "data": {
      "text/plain": [
       "array([-3.        , -2.93939394, -2.87878788, -2.81818182, -2.75757576,\n",
       "       -2.6969697 , -2.63636364, -2.57575758, -2.51515152, -2.45454545,\n",
       "       -2.39393939, -2.33333333, -2.27272727, -2.21212121, -2.15151515,\n",
       "       -2.09090909, -2.03030303, -1.96969697, -1.90909091, -1.84848485,\n",
       "       -1.78787879, -1.72727273, -1.66666667, -1.60606061, -1.54545455,\n",
       "       -1.48484848, -1.42424242, -1.36363636, -1.3030303 , -1.24242424,\n",
       "       -1.18181818, -1.12121212, -1.06060606, -1.        , -0.93939394,\n",
       "       -0.87878788, -0.81818182, -0.75757576, -0.6969697 , -0.63636364,\n",
       "       -0.57575758, -0.51515152, -0.45454545, -0.39393939, -0.33333333,\n",
       "       -0.27272727, -0.21212121, -0.15151515, -0.09090909, -0.03030303,\n",
       "        0.03030303,  0.09090909,  0.15151515,  0.21212121,  0.27272727,\n",
       "        0.33333333,  0.39393939,  0.45454545,  0.51515152,  0.57575758,\n",
       "        0.63636364,  0.6969697 ,  0.75757576,  0.81818182,  0.87878788,\n",
       "        0.93939394,  1.        ,  1.06060606,  1.12121212,  1.18181818,\n",
       "        1.24242424,  1.3030303 ,  1.36363636,  1.42424242,  1.48484848,\n",
       "        1.54545455,  1.60606061,  1.66666667,  1.72727273,  1.78787879,\n",
       "        1.84848485,  1.90909091,  1.96969697,  2.03030303,  2.09090909,\n",
       "        2.15151515,  2.21212121,  2.27272727,  2.33333333,  2.39393939,\n",
       "        2.45454545,  2.51515152,  2.57575758,  2.63636364,  2.6969697 ,\n",
       "        2.75757576,  2.81818182,  2.87878788,  2.93939394,  3.        ])"
      ]
     },
     "execution_count": 20,
     "metadata": {},
     "output_type": "execute_result"
    }
   ],
   "source": [
    "X"
   ]
  },
  {
   "cell_type": "code",
   "execution_count": 21,
   "metadata": {},
   "outputs": [],
   "source": [
    "np.random.seed(45)"
   ]
  },
  {
   "cell_type": "code",
   "execution_count": 22,
   "metadata": {},
   "outputs": [],
   "source": [
    "y = np.random.uniform(-0.5, 0.5, p)"
   ]
  },
  {
   "cell_type": "code",
   "execution_count": 23,
   "metadata": {},
   "outputs": [
    {
     "data": {
      "image/png": "[encoded data removed]",
      "text/plain": [
       "<Figure size 432x288 with 1 Axes>"
      ]
     },
     "metadata": {
      "needs_background": "light"
     },
     "output_type": "display_data"
    }
   ],
   "source": [
    "p = plt.plot(X, y, 'ro')\n",
    "\n",
    "plt.axis([-4, 4, -2, 2])\n",
    "\n",
    "plt.show()"
   ]
  },
  {
   "cell_type": "code",
   "execution_count": 24,
   "metadata": {},
   "outputs": [],
   "source": [
    "X2 = np.c_[np.ones(len(X)), X]"
   ]
  },
  {
   "cell_type": "code",
   "execution_count": 10,
   "metadata": {
    "collapsed": true,
    "jupyter": {
     "outputs_hidden": true
    }
   },
   "outputs": [
    {
     "data": {
      "text/plain": [
       "array([[ 1.        , -2.39393939],\n",
       "       [ 1.        , -2.33333333],\n",
       "       [ 1.        , -2.27272727],\n",
       "       [ 1.        , -2.21212121],\n",
       "       [ 1.        , -2.15151515],\n",
       "       [ 1.        , -2.09090909],\n",
       "       [ 1.        , -2.03030303],\n",
       "       [ 1.        , -1.96969697],\n",
       "       [ 1.        , -1.90909091],\n",
       "       [ 1.        , -1.84848485],\n",
       "       [ 1.        , -1.78787879],\n",
       "       [ 1.        , -1.72727273],\n",
       "       [ 1.        , -1.66666667],\n",
       "       [ 1.        , -1.60606061],\n",
       "       [ 1.        , -1.54545455],\n",
       "       [ 1.        , -1.48484848],\n",
       "       [ 1.        , -1.42424242],\n",
       "       [ 1.        , -1.36363636],\n",
       "       [ 1.        , -1.3030303 ],\n",
       "       [ 1.        , -1.24242424],\n",
       "       [ 1.        , -1.18181818],\n",
       "       [ 1.        , -1.12121212],\n",
       "       [ 1.        , -1.06060606],\n",
       "       [ 1.        , -1.        ],\n",
       "       [ 1.        , -0.93939394],\n",
       "       [ 1.        , -0.87878788],\n",
       "       [ 1.        , -0.81818182],\n",
       "       [ 1.        , -0.75757576],\n",
       "       [ 1.        , -0.6969697 ],\n",
       "       [ 1.        , -0.63636364],\n",
       "       [ 1.        , -0.57575758],\n",
       "       [ 1.        , -0.51515152],\n",
       "       [ 1.        , -0.45454545],\n",
       "       [ 1.        , -0.39393939],\n",
       "       [ 1.        , -0.33333333],\n",
       "       [ 1.        , -0.27272727],\n",
       "       [ 1.        , -0.21212121],\n",
       "       [ 1.        , -0.15151515],\n",
       "       [ 1.        , -0.09090909],\n",
       "       [ 1.        , -0.03030303],\n",
       "       [ 1.        ,  0.03030303],\n",
       "       [ 1.        ,  0.09090909],\n",
       "       [ 1.        ,  0.15151515],\n",
       "       [ 1.        ,  0.21212121],\n",
       "       [ 1.        ,  0.27272727],\n",
       "       [ 1.        ,  0.33333333],\n",
       "       [ 1.        ,  0.39393939],\n",
       "       [ 1.        ,  0.45454545],\n",
       "       [ 1.        ,  0.51515152],\n",
       "       [ 1.        ,  0.57575758],\n",
       "       [ 1.        ,  0.63636364],\n",
       "       [ 1.        ,  0.6969697 ],\n",
       "       [ 1.        ,  0.75757576],\n",
       "       [ 1.        ,  0.81818182],\n",
       "       [ 1.        ,  0.87878788],\n",
       "       [ 1.        ,  0.93939394],\n",
       "       [ 1.        ,  1.        ],\n",
       "       [ 1.        ,  1.06060606],\n",
       "       [ 1.        ,  1.12121212],\n",
       "       [ 1.        ,  1.18181818],\n",
       "       [ 1.        ,  1.24242424],\n",
       "       [ 1.        ,  1.3030303 ],\n",
       "       [ 1.        ,  1.36363636],\n",
       "       [ 1.        ,  1.42424242],\n",
       "       [ 1.        ,  1.48484848],\n",
       "       [ 1.        ,  1.54545455],\n",
       "       [ 1.        ,  1.60606061],\n",
       "       [ 1.        ,  1.66666667],\n",
       "       [ 1.        ,  1.72727273],\n",
       "       [ 1.        ,  1.78787879],\n",
       "       [ 1.        ,  1.84848485],\n",
       "       [ 1.        ,  1.90909091],\n",
       "       [ 1.        ,  1.96969697],\n",
       "       [ 1.        ,  2.03030303],\n",
       "       [ 1.        ,  2.09090909],\n",
       "       [ 1.        ,  2.15151515],\n",
       "       [ 1.        ,  2.21212121],\n",
       "       [ 1.        ,  2.27272727],\n",
       "       [ 1.        ,  2.33333333],\n",
       "       [ 1.        ,  2.39393939],\n",
       "       [ 1.        ,  2.45454545],\n",
       "       [ 1.        ,  2.51515152],\n",
       "       [ 1.        ,  2.57575758],\n",
       "       [ 1.        ,  2.63636364],\n",
       "       [ 1.        ,  2.6969697 ],\n",
       "       [ 1.        ,  2.75757576],\n",
       "       [ 1.        ,  2.81818182],\n",
       "       [ 1.        ,  2.87878788],\n",
       "       [ 1.        ,  2.93939394],\n",
       "       [ 1.        ,  3.        ]])"
      ]
     },
     "execution_count": 10,
     "metadata": {},
     "output_type": "execute_result"
    }
   ],
   "source": [
    "X2[10:]"
   ]
  },
  {
   "cell_type": "code",
   "execution_count": 11,
   "metadata": {
    "collapsed": true,
    "jupyter": {
     "outputs_hidden": true
    }
   },
   "outputs": [],
   "source": [
    "W = np.random.uniform(size=X2.shape[1])"
   ]
  },
  {
   "cell_type": "code",
   "execution_count": 12,
   "metadata": {
    "collapsed": true,
    "jupyter": {
     "outputs_hidden": true
    }
   },
   "outputs": [
    {
     "data": {
      "text/plain": [
       "array([0.5237495 , 0.29788448])"
      ]
     },
     "execution_count": 12,
     "metadata": {},
     "output_type": "execute_result"
    }
   ],
   "source": [
    "W"
   ]
  },
  {
   "cell_type": "code",
   "execution_count": 13,
   "metadata": {
    "collapsed": true,
    "jupyter": {
     "outputs_hidden": true
    }
   },
   "outputs": [],
   "source": [
    "predictedY = X2.dot(W)"
   ]
  },
  {
   "cell_type": "code",
   "execution_count": 14,
   "metadata": {
    "collapsed": true,
    "jupyter": {
     "outputs_hidden": true
    }
   },
   "outputs": [
    {
     "data": {
      "text/plain": [
       "(2, 100)"
      ]
     },
     "execution_count": 14,
     "metadata": {},
     "output_type": "execute_result"
    }
   ],
   "source": [
    "X2.T.shape"
   ]
  },
  {
   "cell_type": "code",
   "execution_count": 15,
   "metadata": {
    "collapsed": true,
    "jupyter": {
     "outputs_hidden": true
    }
   },
   "outputs": [],
   "source": [
    "error = (predictedY - y)**2"
   ]
  },
  {
   "cell_type": "code",
   "execution_count": 16,
   "metadata": {
    "collapsed": true,
    "jupyter": {
     "outputs_hidden": true
    }
   },
   "outputs": [
    {
     "data": {
      "text/plain": [
       "array([7.37735746e-01, 1.61117991e-01, 1.32811857e-02, 1.14420062e-02,\n",
       "       5.86409869e-02, 6.37279129e-02, 3.60603742e-02, 8.67633571e-03,\n",
       "       2.51457742e-02, 1.12099862e-01, 2.97624733e-01, 1.03308698e-01,\n",
       "       4.14713284e-01, 1.11424538e-02, 5.54357383e-02, 1.39790256e-02,\n",
       "       3.10304229e-01, 5.57246324e-02, 2.11122672e-04, 3.36455429e-02,\n",
       "       3.43417418e-04, 1.57419186e-01, 9.01924502e-02, 4.45912344e-03,\n",
       "       1.02800019e-01, 3.74243204e-02, 4.81291817e-02, 2.94851831e-01,\n",
       "       8.26864648e-02, 1.83830438e-01, 1.20182023e-03, 3.35463782e-01,\n",
       "       1.14077975e-02, 1.01807249e-01, 8.63242160e-03, 2.62084408e-01,\n",
       "       1.03869453e-01, 5.79108514e-02, 3.18302281e-01, 5.24096834e-01,\n",
       "       1.57761277e-02, 3.13846358e-01, 3.91794577e-03, 2.06783502e-01,\n",
       "       6.89424231e-01, 3.05864724e-03, 4.78768325e-02, 7.33906122e-01,\n",
       "       1.98246451e-02, 8.98295313e-01, 7.20502715e-01, 7.72048819e-01,\n",
       "       2.14931817e-02, 1.76908265e-01, 7.22387740e-01, 7.59909827e-01,\n",
       "       2.46682714e-02, 2.30742038e-01, 6.00367499e-01, 1.27935655e+00,\n",
       "       5.92035174e-01, 1.04913789e+00, 8.59013110e-01, 3.81908191e-01,\n",
       "       3.15298414e-01, 6.97639007e-01, 1.28570255e+00, 1.08847518e+00,\n",
       "       1.48242646e+00, 1.64102538e+00, 8.13757772e-01, 1.77344829e-01,\n",
       "       3.02656303e-01, 1.65567509e+00, 1.34826820e+00, 7.73205770e-01,\n",
       "       3.15692713e-01, 6.19532903e-01, 2.24657359e+00, 1.94984472e+00,\n",
       "       2.28055987e+00, 1.31764589e+00, 5.94008022e-01, 1.14706216e+00,\n",
       "       4.33863577e-01, 8.12624469e-01, 5.50309283e-01, 9.48697965e-01,\n",
       "       2.14968681e+00, 6.87925889e-01, 1.14532333e+00, 2.78135395e+00,\n",
       "       1.40846930e+00, 1.14879890e+00, 2.52782438e+00, 7.33082891e-01,\n",
       "       1.04540342e+00, 2.09727014e+00, 1.38437371e+00, 1.55941888e+00])"
      ]
     },
     "execution_count": 16,
     "metadata": {},
     "output_type": "execute_result"
    }
   ],
   "source": [
    "error"
   ]
  },
  {
   "cell_type": "code",
   "execution_count": 17,
   "metadata": {
    "collapsed": true,
    "jupyter": {
     "outputs_hidden": true
    }
   },
   "outputs": [],
   "source": [
    "alpha = 0.001\n",
    "epochs = 10000\n",
    "total_expected_error = 0\n",
    "errorlist = []\n",
    "finalepoch = 0\n",
    "for i in range(epochs):\n",
    "    predictedY = X2.dot(W)\n",
    "    error = (predictedY - y)**2\n",
    "    total_error = np.sum(error)\n",
    "    gradient = X2.T.dot(error)/X2.shape[0]\n",
    "    if i%100 == 0:\n",
    "        errorlist.append(total_error)\n",
    "        finalepoch += 1\n",
    "    if np.abs(total_expected_error - total_error) < 0.0005:\n",
    "        break\n",
    "    total_expected_error = total_error\n",
    "    W += -alpha * gradient"
   ]
  },
  {
   "cell_type": "code",
   "execution_count": 18,
   "metadata": {
    "collapsed": true,
    "jupyter": {
     "outputs_hidden": true
    }
   },
   "outputs": [
    {
     "data": {
      "text/plain": [
       "[59.84094165958616,\n",
       " 44.5799670727297,\n",
       " 35.6645985629756,\n",
       " 29.972905988838836,\n",
       " 26.067040875768363,\n",
       " 23.223583347510797,\n",
       " 21.05232477300492,\n",
       " 19.330177374561977,\n",
       " 17.922940605795514,\n",
       " 16.746099259842577,\n",
       " 15.744151116368409,\n",
       " 14.879219304074146,\n",
       " 14.124532973055079,\n",
       " 13.460562691360428,\n",
       " 12.87265468804299,\n",
       " 12.34953840810405,\n",
       " 11.88235790011887,\n",
       " 11.464026063405223,\n",
       " 11.088783064999769,\n",
       " 10.751887068835273,\n",
       " 10.449392742648243,\n",
       " 10.177989321758666,\n",
       " 9.93487996342842,\n",
       " 9.717690326698646,\n",
       " 9.524398252837374,\n",
       " 9.353278973294584,\n",
       " 9.202861955387398,\n",
       " 9.071896626490965,\n",
       " 8.95932499028591,\n",
       " 8.864259686103292,\n",
       " 8.785966422822911,\n",
       " 8.723849992859865]"
      ]
     },
     "execution_count": 18,
     "metadata": {},
     "output_type": "execute_result"
    }
   ],
   "source": [
    "errorlist"
   ]
  },
  {
   "cell_type": "code",
   "execution_count": 19,
   "metadata": {
    "collapsed": true,
    "jupyter": {
     "outputs_hidden": true
    }
   },
   "outputs": [
    {
     "data": {
      "text/plain": [
       "0.0004989141996976088"
      ]
     },
     "execution_count": 19,
     "metadata": {},
     "output_type": "execute_result"
    }
   ],
   "source": [
    "total_expected_error - total_error"
   ]
  },
  {
   "cell_type": "code",
   "execution_count": 20,
   "metadata": {
    "collapsed": true,
    "jupyter": {
     "outputs_hidden": true
    }
   },
   "outputs": [
    {
     "data": {
      "text/plain": [
       "array([0.02122621, 0.02879512])"
      ]
     },
     "execution_count": 20,
     "metadata": {},
     "output_type": "execute_result"
    }
   ],
   "source": [
    "W"
   ]
  },
  {
   "cell_type": "code",
   "execution_count": 21,
   "metadata": {
    "collapsed": true,
    "jupyter": {
     "outputs_hidden": true
    }
   },
   "outputs": [
    {
     "data": {
      "text/plain": [
       "8.709289669300585"
      ]
     },
     "execution_count": 21,
     "metadata": {},
     "output_type": "execute_result"
    }
   ],
   "source": [
    "total_error"
   ]
  },
  {
   "cell_type": "code",
   "execution_count": 22,
   "metadata": {
    "collapsed": true,
    "jupyter": {
     "outputs_hidden": true
    }
   },
   "outputs": [
    {
     "data": {
      "text/plain": [
       "[59.84094165958616,\n",
       " 44.5799670727297,\n",
       " 35.6645985629756,\n",
       " 29.972905988838836,\n",
       " 26.067040875768363,\n",
       " 23.223583347510797,\n",
       " 21.05232477300492,\n",
       " 19.330177374561977,\n",
       " 17.922940605795514,\n",
       " 16.746099259842577,\n",
       " 15.744151116368409,\n",
       " 14.879219304074146,\n",
       " 14.124532973055079,\n",
       " 13.460562691360428,\n",
       " 12.87265468804299,\n",
       " 12.34953840810405,\n",
       " 11.88235790011887,\n",
       " 11.464026063405223,\n",
       " 11.088783064999769,\n",
       " 10.751887068835273,\n",
       " 10.449392742648243,\n",
       " 10.177989321758666,\n",
       " 9.93487996342842,\n",
       " 9.717690326698646,\n",
       " 9.524398252837374,\n",
       " 9.353278973294584,\n",
       " 9.202861955387398,\n",
       " 9.071896626490965,\n",
       " 8.95932499028591,\n",
       " 8.864259686103292,\n",
       " 8.785966422822911,\n",
       " 8.723849992859865]"
      ]
     },
     "execution_count": 22,
     "metadata": {},
     "output_type": "execute_result"
    }
   ],
   "source": [
    "errorlist"
   ]
  },
  {
   "cell_type": "code",
   "execution_count": 24,
   "metadata": {
    "collapsed": true,
    "jupyter": {
     "outputs_hidden": true
    }
   },
   "outputs": [
    {
     "data": {
      "image/png": "[encoded data removed]",
      "text/plain": [
       "<Figure size 432x288 with 1 Axes>"
      ]
     },
     "metadata": {
      "needs_background": "light"
     },
     "output_type": "display_data"
    }
   ],
   "source": [
    "plt.plot(X, y, 'ro')\n",
    "plt.plot(X, X2.dot(W), 'b')\n",
    "plt.axis([-4, 4, -2, 2])\n",
    "plt.show()"
   ]
  },
  {
   "cell_type": "code",
   "execution_count": 25,
   "metadata": {
    "collapsed": true,
    "jupyter": {
     "outputs_hidden": true
    }
   },
   "outputs": [
    {
     "data": {
      "text/plain": [
       "array([0.02122621, 0.02879512])"
      ]
     },
     "execution_count": 25,
     "metadata": {},
     "output_type": "execute_result"
    }
   ],
   "source": [
    "W"
   ]
  },
  {
   "cell_type": "markdown",
   "metadata": {
    "jupyter": {
     "outputs_hidden": true
    }
   },
   "source": [
    "# LOGISTIC REGRESION"
   ]
  },
  {
   "cell_type": "code",
   "execution_count": 2,
   "metadata": {},
   "outputs": [],
   "source": [
    "from sklearn.linear_model import LogisticRegression\n",
    "from sklearn.datasets import make_classification"
   ]
  },
  {
   "cell_type": "code",
   "execution_count": 3,
   "metadata": {},
   "outputs": [],
   "source": [
    "X, y = make_classification(n_samples=1000, n_features=10, n_informative=5, n_redundant=5, n_classes=3, random_state=1)"
   ]
  },
  {
   "cell_type": "code",
   "execution_count": 4,
   "metadata": {},
   "outputs": [
    {
     "data": {
      "text/plain": [
       "array([ 1.89149379, -0.39847585,  1.63856893,  0.01647165,  1.51892395,\n",
       "       -3.52651223,  1.80998823,  0.58810926, -0.02542177, -0.52835426])"
      ]
     },
     "execution_count": 4,
     "metadata": {},
     "output_type": "execute_result"
    }
   ],
   "source": [
    "X[0]"
   ]
  },
  {
   "cell_type": "code",
   "execution_count": 5,
   "metadata": {},
   "outputs": [],
   "source": [
    "model = LogisticRegression(multi_class='ovr')"
   ]
  },
  {
   "cell_type": "code",
   "execution_count": 6,
   "metadata": {},
   "outputs": [
    {
     "data": {
      "text/plain": [
       "LogisticRegression(multi_class='ovr')"
      ]
     },
     "execution_count": 6,
     "metadata": {},
     "output_type": "execute_result"
    }
   ],
   "source": [
    "model.fit(X, y)"
   ]
  },
  {
   "cell_type": "code",
   "execution_count": 46,
   "metadata": {},
   "outputs": [],
   "source": [
    "yhat = model.predict(X)"
   ]
  },
  {
   "cell_type": "code",
   "execution_count": 51,
   "metadata": {},
   "outputs": [
    {
     "data": {
      "text/plain": [
       "696"
      ]
     },
     "execution_count": 51,
     "metadata": {},
     "output_type": "execute_result"
    }
   ],
   "source": [
    "(yhat == y).sum()"
   ]
  },
  {
   "cell_type": "code",
   "execution_count": 52,
   "metadata": {},
   "outputs": [
    {
     "data": {
      "text/plain": [
       "1000"
      ]
     },
     "execution_count": 52,
     "metadata": {},
     "output_type": "execute_result"
    }
   ],
   "source": [
    "len(y)"
   ]
  },
  {
   "cell_type": "code",
   "execution_count": 53,
   "metadata": {},
   "outputs": [
    {
     "data": {
      "text/plain": [
       "69.6"
      ]
     },
     "execution_count": 53,
     "metadata": {},
     "output_type": "execute_result"
    }
   ],
   "source": [
    "696/1000 * 100"
   ]
  },
  {
   "cell_type": "code",
   "execution_count": 28,
   "metadata": {},
   "outputs": [
    {
     "name": "stdout",
     "output_type": "stream",
     "text": [
      "Defaulting to user installation because normal site-packages is not writeable\n",
      "Requirement already satisfied: scipy in /home/jagarcia/.local/lib/python3.9/site-packages (1.7.1)\n",
      "Requirement already satisfied: numpy<1.23.0,>=1.16.5 in /home/jagarcia/.local/lib/python3.9/site-packages (from scipy) (1.19.2)\n",
      "\u001b[33mWARNING: You are using pip version 20.3.3; however, version 21.2.3 is available.\n",
      "You should consider upgrading via the '/usr/local/bin/python3.9 -m pip install --upgrade pip' command.\u001b[0m\n",
      "Note: you may need to restart the kernel to use updated packages.\n"
     ]
    }
   ],
   "source": [
    "pip install scipy"
   ]
  },
  {
   "cell_type": "code",
   "execution_count": 77,
   "metadata": {},
   "outputs": [
    {
     "data": {
      "text/plain": [
       "{'divide': 'ignore', 'over': 'ignore', 'under': 'ignore', 'invalid': 'ignore'}"
      ]
     },
     "execution_count": 77,
     "metadata": {},
     "output_type": "execute_result"
    }
   ],
   "source": [
    "import math\n",
    "import numpy as np\n",
    "import pandas\n",
    "import scipy.optimize as opt\n",
    "from tqdm.notebook import tqdm\n",
    "np.seterr(all=\"ignore\")"
   ]
  },
  {
   "cell_type": "code",
   "execution_count": 26,
   "metadata": {},
   "outputs": [],
   "source": [
    "train = pandas.read_csv(\"../datasets/dataset_train.csv\").fillna(0)"
   ]
  },
  {
   "cell_type": "code",
   "execution_count": 27,
   "metadata": {},
   "outputs": [],
   "source": [
    "houses = train['Hogwarts House'].unique().tolist()"
   ]
  },
  {
   "cell_type": "code",
   "execution_count": 28,
   "metadata": {},
   "outputs": [
    {
     "data": {
      "text/plain": [
       "['Ravenclaw', 'Slytherin', 'Gryffindor', 'Hufflepuff']"
      ]
     },
     "execution_count": 28,
     "metadata": {},
     "output_type": "execute_result"
    }
   ],
   "source": [
    "houses"
   ]
  },
  {
   "cell_type": "code",
   "execution_count": 29,
   "metadata": {},
   "outputs": [],
   "source": [
    "x = train[train.columns[6:]].to_numpy()"
   ]
  },
  {
   "cell_type": "code",
   "execution_count": 30,
   "metadata": {},
   "outputs": [
    {
     "data": {
      "text/plain": [
       "array([ 5.83840000e+04, -4.87886086e+02,  5.72718030e+00,  4.87886086e+00,\n",
       "        4.72200000e+00,  2.72035831e+02,  5.32484226e+02,  5.23105829e+00,\n",
       "        1.03978828e+03,  3.79036907e+00,  7.15939127e-01, -2.32794050e+02,\n",
       "       -2.68900000e+01])"
      ]
     },
     "execution_count": 30,
     "metadata": {},
     "output_type": "execute_result"
    }
   ],
   "source": [
    "x[0]"
   ]
  },
  {
   "cell_type": "code",
   "execution_count": 31,
   "metadata": {},
   "outputs": [],
   "source": [
    "y = train['Hogwarts House'].replace(houses, [0, 1, 2, 3]).to_numpy()"
   ]
  },
  {
   "cell_type": "code",
   "execution_count": 32,
   "metadata": {},
   "outputs": [],
   "source": [
    "numExamples = x.shape[0]\n",
    "numFeatures = x.shape[1]\n",
    "numLabels = 4"
   ]
  },
  {
   "cell_type": "code",
   "execution_count": 33,
   "metadata": {},
   "outputs": [],
   "source": [
    "def sigmoid(x):\n",
    "    return 1 / (1 + np.exp(-1 * x))"
   ]
  },
  {
   "cell_type": "code",
   "execution_count": 34,
   "metadata": {},
   "outputs": [],
   "source": [
    "def cost(theta, X, y):\n",
    "    predictions = sigmoid(X.dot(theta))\n",
    "    #predictions[predictions == 1] = 0.999\n",
    "    if predictions == 1.0:\n",
    "        predictions = 0.999\n",
    "    error = -y * np.log(predictions) - (1 - y) * np.log(1 - predictions)\n",
    "    #m = len(y)\n",
    "    m = 1\n",
    "    #return sum(error)/m\n",
    "    return error/m"
   ]
  },
  {
   "cell_type": "code",
   "execution_count": 35,
   "metadata": {},
   "outputs": [],
   "source": [
    "def cost_gradient(theta, X, y):\n",
    "    predictions = sigmoid(X.dot(theta))\n",
    "    #m = len(y)\n",
    "    m = 1\n",
    "    return X.T.dot(predictions - y)/ m"
   ]
  },
  {
   "cell_type": "code",
   "execution_count": 36,
   "metadata": {},
   "outputs": [],
   "source": [
    "X = np.ones(shape=(x.shape[0], x.shape[1] + 1)) #Add ones to X for the theta_0\n",
    "X[:, 1:] = x"
   ]
  },
  {
   "cell_type": "code",
   "execution_count": 37,
   "metadata": {},
   "outputs": [],
   "source": [
    "classifiers = np.zeros(shape=(numLabels, numFeatures + 1))"
   ]
  },
  {
   "cell_type": "code",
   "execution_count": 38,
   "metadata": {},
   "outputs": [
    {
     "data": {
      "text/plain": [
       "array([[0., 0., 0., 0., 0., 0., 0., 0., 0., 0., 0., 0., 0., 0.],\n",
       "       [0., 0., 0., 0., 0., 0., 0., 0., 0., 0., 0., 0., 0., 0.],\n",
       "       [0., 0., 0., 0., 0., 0., 0., 0., 0., 0., 0., 0., 0., 0.],\n",
       "       [0., 0., 0., 0., 0., 0., 0., 0., 0., 0., 0., 0., 0., 0.]])"
      ]
     },
     "execution_count": 38,
     "metadata": {},
     "output_type": "execute_result"
    }
   ],
   "source": [
    "classifiers"
   ]
  },
  {
   "cell_type": "code",
   "execution_count": 96,
   "metadata": {},
   "outputs": [],
   "source": [
    "def Mylogisticregression(theta, X, y):\n",
    "    alpha = 0.1\n",
    "    epochs = 50\n",
    "    total_expected_error = 0\n",
    "    errorlist = []\n",
    "    finalepoch = 0\n",
    "    for i in range(epochs):\n",
    "        total_error = cost(theta, X, y)\n",
    "        gradient = cost_gradient(theta, X, y)\n",
    "        total_expected_error = total_error\n",
    "        theta += -alpha * gradient\n",
    "    return theta"
   ]
  },
  {
   "cell_type": "code",
   "execution_count": 193,
   "metadata": {},
   "outputs": [],
   "source": [
    "save = [0, 1, 2, 3, 4]"
   ]
  },
  {
   "cell_type": "code",
   "execution_count": 206,
   "metadata": {},
   "outputs": [],
   "source": [
    "def SLG(theta, X, y, alpha=0.1, tolerance=0.0005):\n",
    "    global save\n",
    "    i = 0\n",
    "    while True:\n",
    "        random_idx = random.sample(range(0, X.shape[0]), 1)[0]\n",
    "        #print(f\"X is:\\n{X}\\ny is:\\n{y}\\ntheta is:\\n{theta}\")\n",
    "        predictions = sigmoid(X[random_idx].dot(theta))\n",
    "        total_error = cost(theta, X[random_idx], y[random_idx])\n",
    "        gradient = cost_gradient(theta, X[random_idx], y[random_idx])\n",
    "        diff = -alpha * gradient\n",
    "        if not i%1000:\n",
    "            if pandas.isna(total_error):\n",
    "                save[0] = total_error\n",
    "                save[1] = X[random_idx]\n",
    "                save[2] = theta\n",
    "                save[3] = y[random_idx]\n",
    "                return None\n",
    "            save[4] = total_error\n",
    "            print(total_error)\n",
    "        if np.abs(total_error) < tolerance:\n",
    "        #if np.all(np.abs(diff) <= tolerance):\n",
    "            print(diff)\n",
    "            print(\"CONVERGE\")\n",
    "            print(gradient)\n",
    "            print(predictions)\n",
    "        theta += diff\n",
    "    return theta"
   ]
  },
  {
   "cell_type": "code",
   "execution_count": 208,
   "metadata": {},
   "outputs": [
    {
     "data": {
      "text/plain": [
       "[nan,\n",
       " array([ 1.00000000e+00,  3.49640000e+04,  5.21979825e+02,  4.22383758e+00,\n",
       "        -5.21979825e+00,  5.08000000e+00, -3.51263341e+02,  4.25969413e+02,\n",
       "         8.51845322e+00,  1.03115819e+03,  8.20276848e+00, -3.16095004e-01,\n",
       "        -2.42453620e+02, -7.27000000e+00]),\n",
       " array([-5.00000000e-02, -1.35990000e+03, -3.82035820e+01, -2.62171724e-01,\n",
       "         3.82035820e-01, -2.70200000e-01,  1.78719226e+01, -1.73699756e+01,\n",
       "        -3.10746388e-01, -5.20377486e+01, -2.37149617e-01,  3.73347223e-02,\n",
       "         1.22451645e+01,  9.35000000e-02]),\n",
       " 0,\n",
       " 0.6931471805599453]"
      ]
     },
     "execution_count": 208,
     "metadata": {},
     "output_type": "execute_result"
    }
   ],
   "source": [
    "save"
   ]
  },
  {
   "cell_type": "code",
   "execution_count": 209,
   "metadata": {},
   "outputs": [
    {
     "data": {
      "text/plain": [
       "0.0"
      ]
     },
     "execution_count": 209,
     "metadata": {},
     "output_type": "execute_result"
    }
   ],
   "source": [
    "sigmoid(save[1].dot(save[2]))"
   ]
  },
  {
   "cell_type": "code",
   "execution_count": 213,
   "metadata": {},
   "outputs": [],
   "source": [
    "predictions = sigmoid(save[1].dot(save[2]))\n",
    "#predictions[predictions == 1] = 0.999\n",
    "if predictions == 1.0:\n",
    "    predictions = 0.999\n",
    "error = -save[3] * np.log(predictions) - (1 - save[3]) * np.log(1 - predictions)\n",
    "#m = len(y)\n",
    "m = 1\n",
    "#return sum(error)/m"
   ]
  },
  {
   "cell_type": "code",
   "execution_count": 223,
   "metadata": {},
   "outputs": [
    {
     "data": {
      "text/plain": [
       "nan"
      ]
     },
     "execution_count": 223,
     "metadata": {},
     "output_type": "execute_result"
    }
   ],
   "source": [
    "error"
   ]
  },
  {
   "cell_type": "code",
   "execution_count": 207,
   "metadata": {},
   "outputs": [
    {
     "data": {
      "application/vnd.jupyter.widget-view+json": {
       "model_id": "b1f7d9ed1c1e444b9274dbd0f09fee8b",
       "version_major": 2,
       "version_minor": 0
      },
      "text/plain": [
       "  0%|          | 0/4 [00:00<?, ?it/s]"
      ]
     },
     "metadata": {},
     "output_type": "display_data"
    },
    {
     "name": "stdout",
     "output_type": "stream",
     "text": [
      "0.6931471805599453\n"
     ]
    }
   ],
   "source": [
    "for c in tqdm(range(0, numLabels)):\n",
    "    label = (y == c).astype(int)\n",
    "    initial_theta = np.zeros(X.shape[1])\n",
    "    #classifiers[c,:] = Mylogisticregression(initial_theta, X, label)\n",
    "    if not SLG(initial_theta, X, label):\n",
    "        break"
   ]
  },
  {
   "cell_type": "code",
   "execution_count": 44,
   "metadata": {},
   "outputs": [],
   "source": [
    "classProbabilities = sigmoid(X.dot(classifiers.T))"
   ]
  },
  {
   "cell_type": "code",
   "execution_count": 46,
   "metadata": {},
   "outputs": [],
   "source": [
    "predictions = classProbabilities.argmax(axis=1)"
   ]
  },
  {
   "cell_type": "code",
   "execution_count": 47,
   "metadata": {},
   "outputs": [
    {
     "data": {
      "text/plain": [
       "array([0, 0, 0, ..., 0, 0, 0])"
      ]
     },
     "execution_count": 47,
     "metadata": {},
     "output_type": "execute_result"
    }
   ],
   "source": [
    "predictions"
   ]
  },
  {
   "cell_type": "code",
   "execution_count": 175,
   "metadata": {},
   "outputs": [],
   "source": [
    "from sklearn.metrics import accuracy_score"
   ]
  },
  {
   "cell_type": "code",
   "execution_count": 176,
   "metadata": {},
   "outputs": [
    {
     "data": {
      "text/plain": [
       "0.333125"
      ]
     },
     "execution_count": 176,
     "metadata": {},
     "output_type": "execute_result"
    }
   ],
   "source": [
    "accuracy_score(y, predictions)"
   ]
  },
  {
   "cell_type": "code",
   "execution_count": 43,
   "metadata": {},
   "outputs": [
    {
     "data": {
      "text/plain": [
       "['Ravenclaw', 'Slytherin', 'Gryffindor', 'Hufflepuff']"
      ]
     },
     "execution_count": 43,
     "metadata": {},
     "output_type": "execute_result"
    }
   ],
   "source": [
    "houses"
   ]
  },
  {
   "cell_type": "code",
   "execution_count": 107,
   "metadata": {},
   "outputs": [
    {
     "data": {
      "text/plain": [
       "28.3125"
      ]
     },
     "execution_count": 107,
     "metadata": {},
     "output_type": "execute_result"
    }
   ],
   "source": [
    "100 * np.mean(predictions == y)"
   ]
  },
  {
   "cell_type": "code",
   "execution_count": 111,
   "metadata": {},
   "outputs": [
    {
     "data": {
      "text/plain": [
       "array([ 1.00000000e+00,  5.83840000e+04, -4.87886086e+02,  5.72718030e+00,\n",
       "        4.87886086e+00,  4.72200000e+00,  2.72035831e+02,  5.32484226e+02,\n",
       "        5.23105829e+00,  1.03978828e+03,  3.79036907e+00,  7.15939127e-01,\n",
       "       -2.32794050e+02, -2.68900000e+01])"
      ]
     },
     "execution_count": 111,
     "metadata": {},
     "output_type": "execute_result"
    }
   ],
   "source": [
    "X[0]"
   ]
  },
  {
   "cell_type": "code",
   "execution_count": 40,
   "metadata": {},
   "outputs": [
    {
     "data": {
      "text/plain": [
       "array([0., 0., 0., 0., 0., 0., 0., 0., 0., 0., 0., 0., 0., 0.])"
      ]
     },
     "execution_count": 40,
     "metadata": {},
     "output_type": "execute_result"
    }
   ],
   "source": [
    "classifiers[0]"
   ]
  },
  {
   "cell_type": "code",
   "execution_count": 41,
   "metadata": {},
   "outputs": [
    {
     "name": "stdout",
     "output_type": "stream",
     "text": [
      "[0. 0. 0. 0. 0. 0. 0. 0. 0. 0. 0. 0. 0. 0.]\n",
      "[0. 0. 0. 0. 0. 0. 0. 0. 0. 0. 0. 0. 0. 0.]\n",
      "[0. 0. 0. 0. 0. 0. 0. 0. 0. 0. 0. 0. 0. 0.]\n",
      "[0. 0. 0. 0. 0. 0. 0. 0. 0. 0. 0. 0. 0. 0.]\n"
     ]
    }
   ],
   "source": [
    "for c in classifiers:\n",
    "    print(c)"
   ]
  },
  {
   "cell_type": "code",
   "execution_count": 42,
   "metadata": {},
   "outputs": [],
   "source": [
    "with open(\"weights.txt\", \"w\") as f:\n",
    "    for classifier in classifiers:\n",
    "        for classi in classifier:\n",
    "            f.write(f\"{classi} \")\n",
    "        f.write(\"\\n\")"
   ]
  },
  {
   "cell_type": "code",
   "execution_count": null,
   "metadata": {},
   "outputs": [],
   "source": [
    "dataset = pandas.read_csv(\"datasets/dataset_train.csv\")\n",
    "labels = dataset['Hogwarts House'].unique().tolist()\n",
    "trainset_df = dataset[dataset.columns[6:]].fillna(0)\n",
    "for c in trainset_df.columns: #Normalize data\n",
    "    m = trainset_df[c].mean()\n",
    "    std = trainset_df[c].std()\n",
    "    trainset_df[c] = trainset_df[c].apply(lambda x: (x - m)/std)\n",
    "trainset = trainset_df.to_numpy()\n",
    "real_values = dataset['Hogwarts House'].replace(labels, [0, 1, 2, 3]).to_numpy()"
   ]
  }
 ],
 "metadata": {
  "kernelspec": {
   "display_name": "Python 3",
   "language": "python",
   "name": "python3"
  },
  "language_info": {
   "codemirror_mode": {
    "name": "ipython",
    "version": 3
   },
   "file_extension": ".py",
   "mimetype": "text/x-python",
   "name": "python",
   "nbconvert_exporter": "python",
   "pygments_lexer": "ipython3",
   "version": "3.9.0"
  }
 },
 "nbformat": 4,
 "nbformat_minor": 4
}
