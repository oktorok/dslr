{
 "cells": [
  {
   "cell_type": "markdown",
   "metadata": {},
   "source": [
    "# logreg_train.py"
   ]
  },
  {
   "cell_type": "code",
   "execution_count": 1,
   "metadata": {},
   "outputs": [],
   "source": [
    "import MyLogisticRegression as LR\n",
    "import pandas\n",
    "import describe\n",
    "import sys"
   ]
  },
  {
   "cell_type": "code",
   "execution_count": 2,
   "metadata": {},
   "outputs": [],
   "source": [
    "def normalize_data(df):\n",
    "    for c in df.columns: #Normalize data\n",
    "        describe_df = describe.describe(df, [c])\n",
    "        m = describe_df.loc['mean'][0]\n",
    "        std = describe_df.loc['std'][0]\n",
    "        df[c] = df[c].apply(lambda x: (x - m)/std)\n",
    "    return df"
   ]
  },
  {
   "cell_type": "code",
   "execution_count": 3,
   "metadata": {},
   "outputs": [],
   "source": [
    "def prepare_data(dataset):\n",
    "    labels = dataset['Hogwarts House'].unique().tolist()\n",
    "    trainset_df = dataset[dataset.columns[6:]].fillna(0)\n",
    "    trainset_df = normalize_data(trainset_df)\n",
    "    trainset = trainset_df.to_numpy()\n",
    "    real_values = dataset['Hogwarts House'].replace(labels, [0, 1, 2, 3]).to_numpy()\n",
    "    return (trainset, real_values, labels)"
   ]
  },
  {
   "cell_type": "code",
   "execution_count": 7,
   "metadata": {},
   "outputs": [],
   "source": [
    "if __name__ == \"__main__\":\n",
    "   # if len(sys.argv) != 2:\n",
    "    #    print(\"USAGE: logreg_train.py <CSV FILE>\")\n",
    "    dataset = pandas.read_csv(sys.argv[1])\n",
    "    X, y, labels = prepare_data(dataset)\n",
    "    lr = LR.mylogisticregression()\n",
    "    lr.fit(X, y)\n",
    "    lr.train(len(labels), iterations=1000, alpha=0.01, tolerance=0.0005)\n",
    "    with open(\"weights.txt\", \"w\") as f:\n",
    "        for classifier in lr.classifiers:\n",
    "            for classi in classifier:\n",
    "                f.write(f\"{classi} \")\n",
    "            f.write(\"\\n\")"
   ]
  },
  {
   "cell_type": "markdown",
   "metadata": {},
   "source": [
    "# logreg_predict.py"
   ]
  },
  {
   "cell_type": "code",
   "execution_count": 1,
   "metadata": {},
   "outputs": [],
   "source": [
    "import pandas\n",
    "import sys\n",
    "import describe\n",
    "import numpy as np\n",
    "import MyLogisticRegression as LR"
   ]
  },
  {
   "cell_type": "code",
   "execution_count": 2,
   "metadata": {},
   "outputs": [],
   "source": [
    "def normalize_data(df):\n",
    "    for c in df.columns: #Normalize data\n",
    "        describe_df = describe.describe(df, [c])\n",
    "        m = describe_df.loc['mean'][0]\n",
    "        std = describe_df.loc['std'][0]\n",
    "        df[c] = df[c].apply(lambda x: (x - m)/std)\n",
    "    return df"
   ]
  },
  {
   "cell_type": "code",
   "execution_count": 3,
   "metadata": {},
   "outputs": [],
   "source": [
    "def prepare_data(dataset):\n",
    "    labels = ['Ravenclaw', 'Slytherin', 'Gryffindor', 'Hufflepuff']\n",
    "    test_df = dataset[dataset.columns[6:]].fillna(0)\n",
    "    test_df = normalize_data(test_df)\n",
    "    test = test_df.to_numpy()\n",
    "    X = np.ones(shape=(test.shape[0], test.shape[1] + 1))\n",
    "    X[:, 1:] = test\n",
    "    return (X, labels)"
   ]
  },
  {
   "cell_type": "code",
   "execution_count": 4,
   "metadata": {},
   "outputs": [],
   "source": [
    "def get_theta_from_file(filename):\n",
    "    with open(filename, \"r\") as f:\n",
    "        weights = f.read()\n",
    "    theta = np.zeros(shape=(len(labels), X.shape[1]))\n",
    "    for idx1, label_weights in enumerate(weights.strip().split(\"\\n\")):\n",
    "        for idx2, w in enumerate(label_weights.strip().split(\" \")):\n",
    "            theta[idx1][idx2] = w\n",
    "    return theta"
   ]
  },
  {
   "cell_type": "code",
   "execution_count": 5,
   "metadata": {},
   "outputs": [],
   "source": [
    "sys.argv[1] = \"datasets/dataset_test.csv\""
   ]
  },
  {
   "cell_type": "code",
   "execution_count": 6,
   "metadata": {},
   "outputs": [],
   "source": [
    "sys.argv[2] = \"weights.txt\""
   ]
  },
  {
   "cell_type": "code",
   "execution_count": 9,
   "metadata": {},
   "outputs": [],
   "source": [
    "if __name__ == \"__main__\":\n",
    "    if len(sys.argv) != 3:\n",
    "        print(\"USAGE: logreg_predict.py <CSV FILE> <WEIGHTS FILE>\")\n",
    "    else:\n",
    "        dataset = pandas.read_csv(sys.argv[1])\n",
    "        X, labels = prepare_data(dataset)\n",
    "        theta = get_theta_from_file(sys.argv[2])\n",
    "        lr = LR.mylogisticregression()\n",
    "        y = lr.predict(X, theta)\n",
    "        data = {\n",
    "            \"Hogwarts House\":[]\n",
    "        }\n",
    "        for i in y:\n",
    "            data['Hogwarts House'].append(labels[i])\n",
    "        houses = pandas.DataFrame(data)\n",
    "        houses.to_csv(\"houses.csv\", index=False)"
   ]
  },
  {
   "cell_type": "code",
   "execution_count": null,
   "metadata": {},
   "outputs": [],
   "source": []
  }
 ],
 "metadata": {
  "kernelspec": {
   "display_name": "Python 3",
   "language": "python",
   "name": "python3"
  },
  "language_info": {
   "codemirror_mode": {
    "name": "ipython",
    "version": 3
   },
   "file_extension": ".py",
   "mimetype": "text/x-python",
   "name": "python",
   "nbconvert_exporter": "python",
   "pygments_lexer": "ipython3",
   "version": "3.9.0"
  }
 },
 "nbformat": 4,
 "nbformat_minor": 4
}
