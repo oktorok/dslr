{
 "cells": [
  {
   "cell_type": "code",
   "execution_count": 364,
   "metadata": {},
   "outputs": [],
   "source": [
    "class mygradientdescendent:\n",
    "    def __init__(self, cost, gradient, hypothesis):\n",
    "        if not callable(cost):\n",
    "            raise TypeError(\"cost must be a callable function\")\n",
    "        if not callable(gradient):\n",
    "            raise TypeError(\"gradient must be a callable function\")\n",
    "        if not callable(hypothesis):\n",
    "            raise TypeError(\"hypothesis must be a callable function\")\n",
    "        self.cost = cost\n",
    "        self.gradient = gradient\n",
    "        self.h = hypothesis\n",
    "        \n",
    "    def gd(self, X, theta, y, alpha=0.1, iterations=100, tolerance=0.005):\n",
    "        for iteration in range(iterations):\n",
    "            predictions = self.h(X.dot(theta))\n",
    "            total_error = self.cost(predictions, y)\n",
    "            gradient = self.gradient(X, predictions, y)\n",
    "            diff = -alpha * gradient\n",
    "            if np.all(np.abs(diff) <= tolerance):\n",
    "                break\n",
    "            theta += diff\n",
    "        return theta\n",
    "    \n",
    "    def sgd(self, X, theta, y, alpha=0.1, iterations=100, tolerance=0.05):\n",
    "        #for iteration in range(iterations):\n",
    "        while True:\n",
    "            random_idx = random.sample(range(0, X.shape[0]), 1)[0]\n",
    "            predictions = self.h(X[random_idx].dot(theta))\n",
    "            total_error = self.cost(predictions, y[random_idx])\n",
    "            gradient = self.gradient(X[random_idx], predictions, y[random_idx])\n",
    "            diff = -alpha * gradient\n",
    "            if np.all(np.abs(diff) <= tolerance):\n",
    "                break\n",
    "            theta += diff\n",
    "        return theta\n",
    "    \n",
    "    def sgdmb(self, X, theta, y, alpha=0.1, iterations=100, tolerance=0.005, batch_size=5):\n",
    "        for iteration in range(iterations):\n",
    "            random_idx = random.sample(range(0, X.shape[0]), batch_size)[0]\n",
    "            predictions = self.h(X[random_idx].dot(theta))\n",
    "            total_error = self.cost(predictions, y)\n",
    "            gradient = self.gradient(X[random_idx], predictions, y[random_idx])\n",
    "            diff = -alpha * gradient\n",
    "            if np.all(np.abs(diff) <= tolerance):\n",
    "                break\n",
    "            theta += diff\n",
    "        return theta"
   ]
  }
 ],
 "metadata": {
  "kernelspec": {
   "display_name": "Python 3",
   "language": "python",
   "name": "python3"
  },
  "language_info": {
   "codemirror_mode": {
    "name": "ipython",
    "version": 3
   },
   "file_extension": ".py",
   "mimetype": "text/x-python",
   "name": "python",
   "nbconvert_exporter": "python",
   "pygments_lexer": "ipython3",
   "version": "3.9.0"
  }
 },
 "nbformat": 4,
 "nbformat_minor": 4
}
