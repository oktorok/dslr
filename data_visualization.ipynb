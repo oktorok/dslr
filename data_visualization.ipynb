{
 "cells": [
  {
   "cell_type": "code",
   "execution_count": 1,
   "id": "1a442817",
   "metadata": {},
   "outputs": [],
   "source": [
    "import pandas as pd\n",
    "import numpy as np\n",
    "import sys\n",
    "%matplotlib inline"
   ]
  },
  {
   "cell_type": "code",
   "execution_count": 2,
   "id": "9638719f",
   "metadata": {},
   "outputs": [],
   "source": [
    "from describe import describe"
   ]
  },
  {
   "cell_type": "code",
   "execution_count": 3,
   "id": "dfd1e8f9",
   "metadata": {},
   "outputs": [
    {
     "name": "stdout",
     "output_type": "stream",
     "text": [
      "      Index Hogwarts House First Name    Last Name    Birthday Best Hand  \\\n",
      "0         0      Ravenclaw     Tamara          Hsu  2000-03-30      Left   \n",
      "1         1      Slytherin      Erich      Paredes  1999-10-14     Right   \n",
      "2         2      Ravenclaw   Stephany        Braun  1999-11-03      Left   \n",
      "3         3     Gryffindor      Vesta    Mcmichael  2000-08-19      Left   \n",
      "4         4     Gryffindor     Gaston        Gibbs  1998-09-27      Left   \n",
      "...     ...            ...        ...          ...         ...       ...   \n",
      "1595   1595     Gryffindor       Jung        Blank  2001-09-14     Right   \n",
      "1596   1596      Slytherin     Shelli         Lock  1998-03-12      Left   \n",
      "1597   1597     Gryffindor   Benjamin  Christensen  1999-10-24     Right   \n",
      "1598   1598     Hufflepuff  Charlotte       Dillon  2001-09-21      Left   \n",
      "1599   1599     Hufflepuff      Kylie        Nowak  2000-08-21      Left   \n",
      "\n",
      "      Arithmancy   Astronomy  Herbology  Defense Against the Dark Arts  \\\n",
      "0        58384.0 -487.886086   5.727180                       4.878861   \n",
      "1        67239.0 -552.060507  -5.987446                       5.520605   \n",
      "2        23702.0 -366.076117   7.725017                       3.660761   \n",
      "3        32667.0  697.742809  -6.497214                      -6.977428   \n",
      "4        60158.0  436.775204  -7.820623                            NaN   \n",
      "...          ...         ...        ...                            ...   \n",
      "1595     49009.0  354.280086  -4.541837                      -3.542801   \n",
      "1596     63296.0  367.531174   6.061064                      -3.675312   \n",
      "1597     63905.0  544.018925  -3.203269                      -5.440189   \n",
      "1598     82713.0  453.676219   3.442831                      -4.536762   \n",
      "1599     48639.0  688.911989   5.421046                      -6.889120   \n",
      "\n",
      "      Divination  Muggle Studies  Ancient Runes  History of Magic  \\\n",
      "0          4.722      272.035831     532.484226          5.231058   \n",
      "1         -5.612     -487.340557     367.760303          4.107170   \n",
      "2          6.140      664.893521     602.585284          3.555579   \n",
      "3          4.026     -537.001128     523.982133         -4.809637   \n",
      "4          2.236     -444.262537     599.324514         -3.444377   \n",
      "...          ...             ...            ...               ...   \n",
      "1595       5.702     -497.235066     618.220213         -5.231721   \n",
      "1596       1.757     -643.271092     445.827565          2.238112   \n",
      "1597       6.065     -385.150457     635.211486         -5.984257   \n",
      "1598       6.738     -831.741123     383.444937          3.813111   \n",
      "1599       6.593     -234.207911     339.775154          7.208415   \n",
      "\n",
      "      Transfiguration   Potions  Care of Magical Creatures     Charms  Flying  \n",
      "0         1039.788281  3.790369                   0.715939 -232.79405  -26.89  \n",
      "1         1058.944592  7.248742                   0.091674 -252.18425 -113.45  \n",
      "2         1088.088348  8.728531                  -0.515327 -227.34265   30.42  \n",
      "3          920.391449  0.821911                  -0.014040 -256.84675  200.64  \n",
      "4          937.434724  4.311066                  -0.264070 -256.38730  157.98  \n",
      "...               ...       ...                        ...        ...     ...  \n",
      "1595       964.219853  3.389086                  -0.649983 -250.39401  185.83  \n",
      "1596      1056.147366  5.825263                  -0.333962 -246.42719   44.80  \n",
      "1597       953.866685  1.709808                   0.071569 -251.63679  198.47  \n",
      "1598      1087.949205  3.904100                  -0.531875 -246.19072  -76.81  \n",
      "1599      1034.928004  2.052215                   0.150532 -244.02063  -54.77  \n",
      "\n",
      "[1600 rows x 19 columns]\n"
     ]
    }
   ],
   "source": [
    "if __name__ == \"__main__\":\n",
    "    sys.argv[1] = \"datasets/dataset_train.csv\"\n",
    "    if len(sys.argv) < 2:\n",
    "        print(\"USAGE: histogram.py <csv files>\")\n",
    "    else:\n",
    "        data = pd.read_csv(sys.argv[1])\n",
    "        #print(data.columns)\n",
    "        data_grp = data.groupby('Hogwarts House').groups\n",
    "        houses = data['Hogwarts House'].unique().tolist()\n",
    "        houses.sort()        \n",
    "        if (houses != ['Gryffindor', 'Hufflepuff', 'Ravenclaw', 'Slytherin']):\n",
    "            print(\"data is corrupted\")\n",
    "        \n",
    "        \n",
    "        subjects = compare_by = ['Arithmancy', 'Astronomy', 'Herbology',\n",
    "            'Defense Against the Dark Arts', 'Divination', 'Muggle Studies',\n",
    "            'Ancient Runes', 'History of Magic', 'Transfiguration', 'Potions',\n",
    "            'Care of Magical Creatures', 'Charms', 'Flying']\n",
    "        \n",
    "        compare_between = houses\n",
    "        \n",
    "        new_index = pd.MultiIndex.from_product([compare_by, compare_between], names=[\"Subject\", \"Hogwarts House\"])\n",
    "        \n",
    "        \"\"\"\n",
    "        df = data\n",
    "        house_data = {}\n",
    "        homogeneity_data = {}\n",
    "        for house in houses:\n",
    "            homogeneity_data[house] = df.loc[df['Hogwarts House'] == house]\n",
    "            numeric_features = []\n",
    "            for c in df.columns:\n",
    "                col_type = df[c].dtype\n",
    "                if col_type == float or col_type == int:\n",
    "                    numeric_features.append(c)\n",
    "            describe_df = describe(homogeneity_data[house], numeric_features)\n",
    "            house_data[house] = describe_df\n",
    "        \n",
    "        #Total all house:\n",
    "        numeric_features = []\n",
    "        for c in df.columns:\n",
    "            col_type = df[c].dtype\n",
    "            if col_type == float or col_type == int:\n",
    "                numeric_features.append(c)\n",
    "        describe_df = describe(df, numeric_features)\n",
    "        house_data['Total Student'] = describe_df\n",
    "        \n",
    "        observed_df = observed_table(house_data, numeric_features, houses, 'sum') \"\"\"\n",
    "        \n",
    "        print(data)\n",
    "            "
   ]
  },
  {
   "cell_type": "code",
   "execution_count": 4,
   "id": "722ca497",
   "metadata": {},
   "outputs": [
    {
     "data": {
      "text/html": [
       "<div>\n",
       "<style scoped>\n",
       "    .dataframe tbody tr th:only-of-type {\n",
       "        vertical-align: middle;\n",
       "    }\n",
       "\n",
       "    .dataframe tbody tr th {\n",
       "        vertical-align: top;\n",
       "    }\n",
       "\n",
       "    .dataframe thead th {\n",
       "        text-align: right;\n",
       "    }\n",
       "</style>\n",
       "<table border=\"1\" class=\"dataframe\">\n",
       "  <thead>\n",
       "    <tr style=\"text-align: right;\">\n",
       "      <th></th>\n",
       "      <th>Index</th>\n",
       "      <th>Hogwarts House</th>\n",
       "      <th>First Name</th>\n",
       "      <th>Last Name</th>\n",
       "      <th>Birthday</th>\n",
       "      <th>Best Hand</th>\n",
       "      <th>Arithmancy</th>\n",
       "      <th>Astronomy</th>\n",
       "      <th>Herbology</th>\n",
       "      <th>Defense Against the Dark Arts</th>\n",
       "      <th>Divination</th>\n",
       "      <th>Muggle Studies</th>\n",
       "      <th>Ancient Runes</th>\n",
       "      <th>History of Magic</th>\n",
       "      <th>Transfiguration</th>\n",
       "      <th>Potions</th>\n",
       "      <th>Care of Magical Creatures</th>\n",
       "      <th>Charms</th>\n",
       "      <th>Flying</th>\n",
       "    </tr>\n",
       "  </thead>\n",
       "  <tbody>\n",
       "    <tr>\n",
       "      <th>0</th>\n",
       "      <td>0</td>\n",
       "      <td>Ravenclaw</td>\n",
       "      <td>Tamara</td>\n",
       "      <td>Hsu</td>\n",
       "      <td>2000-03-30</td>\n",
       "      <td>Left</td>\n",
       "      <td>58384.0</td>\n",
       "      <td>-487.886086</td>\n",
       "      <td>5.727180</td>\n",
       "      <td>4.878861</td>\n",
       "      <td>4.722</td>\n",
       "      <td>272.035831</td>\n",
       "      <td>532.484226</td>\n",
       "      <td>5.231058</td>\n",
       "      <td>1039.788281</td>\n",
       "      <td>3.790369</td>\n",
       "      <td>0.715939</td>\n",
       "      <td>-232.79405</td>\n",
       "      <td>-26.89</td>\n",
       "    </tr>\n",
       "    <tr>\n",
       "      <th>1</th>\n",
       "      <td>1</td>\n",
       "      <td>Slytherin</td>\n",
       "      <td>Erich</td>\n",
       "      <td>Paredes</td>\n",
       "      <td>1999-10-14</td>\n",
       "      <td>Right</td>\n",
       "      <td>67239.0</td>\n",
       "      <td>-552.060507</td>\n",
       "      <td>-5.987446</td>\n",
       "      <td>5.520605</td>\n",
       "      <td>-5.612</td>\n",
       "      <td>-487.340557</td>\n",
       "      <td>367.760303</td>\n",
       "      <td>4.107170</td>\n",
       "      <td>1058.944592</td>\n",
       "      <td>7.248742</td>\n",
       "      <td>0.091674</td>\n",
       "      <td>-252.18425</td>\n",
       "      <td>-113.45</td>\n",
       "    </tr>\n",
       "    <tr>\n",
       "      <th>2</th>\n",
       "      <td>2</td>\n",
       "      <td>Ravenclaw</td>\n",
       "      <td>Stephany</td>\n",
       "      <td>Braun</td>\n",
       "      <td>1999-11-03</td>\n",
       "      <td>Left</td>\n",
       "      <td>23702.0</td>\n",
       "      <td>-366.076117</td>\n",
       "      <td>7.725017</td>\n",
       "      <td>3.660761</td>\n",
       "      <td>6.140</td>\n",
       "      <td>664.893521</td>\n",
       "      <td>602.585284</td>\n",
       "      <td>3.555579</td>\n",
       "      <td>1088.088348</td>\n",
       "      <td>8.728531</td>\n",
       "      <td>-0.515327</td>\n",
       "      <td>-227.34265</td>\n",
       "      <td>30.42</td>\n",
       "    </tr>\n",
       "    <tr>\n",
       "      <th>3</th>\n",
       "      <td>3</td>\n",
       "      <td>Gryffindor</td>\n",
       "      <td>Vesta</td>\n",
       "      <td>Mcmichael</td>\n",
       "      <td>2000-08-19</td>\n",
       "      <td>Left</td>\n",
       "      <td>32667.0</td>\n",
       "      <td>697.742809</td>\n",
       "      <td>-6.497214</td>\n",
       "      <td>-6.977428</td>\n",
       "      <td>4.026</td>\n",
       "      <td>-537.001128</td>\n",
       "      <td>523.982133</td>\n",
       "      <td>-4.809637</td>\n",
       "      <td>920.391449</td>\n",
       "      <td>0.821911</td>\n",
       "      <td>-0.014040</td>\n",
       "      <td>-256.84675</td>\n",
       "      <td>200.64</td>\n",
       "    </tr>\n",
       "    <tr>\n",
       "      <th>4</th>\n",
       "      <td>4</td>\n",
       "      <td>Gryffindor</td>\n",
       "      <td>Gaston</td>\n",
       "      <td>Gibbs</td>\n",
       "      <td>1998-09-27</td>\n",
       "      <td>Left</td>\n",
       "      <td>60158.0</td>\n",
       "      <td>436.775204</td>\n",
       "      <td>-7.820623</td>\n",
       "      <td>NaN</td>\n",
       "      <td>2.236</td>\n",
       "      <td>-444.262537</td>\n",
       "      <td>599.324514</td>\n",
       "      <td>-3.444377</td>\n",
       "      <td>937.434724</td>\n",
       "      <td>4.311066</td>\n",
       "      <td>-0.264070</td>\n",
       "      <td>-256.38730</td>\n",
       "      <td>157.98</td>\n",
       "    </tr>\n",
       "    <tr>\n",
       "      <th>...</th>\n",
       "      <td>...</td>\n",
       "      <td>...</td>\n",
       "      <td>...</td>\n",
       "      <td>...</td>\n",
       "      <td>...</td>\n",
       "      <td>...</td>\n",
       "      <td>...</td>\n",
       "      <td>...</td>\n",
       "      <td>...</td>\n",
       "      <td>...</td>\n",
       "      <td>...</td>\n",
       "      <td>...</td>\n",
       "      <td>...</td>\n",
       "      <td>...</td>\n",
       "      <td>...</td>\n",
       "      <td>...</td>\n",
       "      <td>...</td>\n",
       "      <td>...</td>\n",
       "      <td>...</td>\n",
       "    </tr>\n",
       "    <tr>\n",
       "      <th>1595</th>\n",
       "      <td>1595</td>\n",
       "      <td>Gryffindor</td>\n",
       "      <td>Jung</td>\n",
       "      <td>Blank</td>\n",
       "      <td>2001-09-14</td>\n",
       "      <td>Right</td>\n",
       "      <td>49009.0</td>\n",
       "      <td>354.280086</td>\n",
       "      <td>-4.541837</td>\n",
       "      <td>-3.542801</td>\n",
       "      <td>5.702</td>\n",
       "      <td>-497.235066</td>\n",
       "      <td>618.220213</td>\n",
       "      <td>-5.231721</td>\n",
       "      <td>964.219853</td>\n",
       "      <td>3.389086</td>\n",
       "      <td>-0.649983</td>\n",
       "      <td>-250.39401</td>\n",
       "      <td>185.83</td>\n",
       "    </tr>\n",
       "    <tr>\n",
       "      <th>1596</th>\n",
       "      <td>1596</td>\n",
       "      <td>Slytherin</td>\n",
       "      <td>Shelli</td>\n",
       "      <td>Lock</td>\n",
       "      <td>1998-03-12</td>\n",
       "      <td>Left</td>\n",
       "      <td>63296.0</td>\n",
       "      <td>367.531174</td>\n",
       "      <td>6.061064</td>\n",
       "      <td>-3.675312</td>\n",
       "      <td>1.757</td>\n",
       "      <td>-643.271092</td>\n",
       "      <td>445.827565</td>\n",
       "      <td>2.238112</td>\n",
       "      <td>1056.147366</td>\n",
       "      <td>5.825263</td>\n",
       "      <td>-0.333962</td>\n",
       "      <td>-246.42719</td>\n",
       "      <td>44.80</td>\n",
       "    </tr>\n",
       "    <tr>\n",
       "      <th>1597</th>\n",
       "      <td>1597</td>\n",
       "      <td>Gryffindor</td>\n",
       "      <td>Benjamin</td>\n",
       "      <td>Christensen</td>\n",
       "      <td>1999-10-24</td>\n",
       "      <td>Right</td>\n",
       "      <td>63905.0</td>\n",
       "      <td>544.018925</td>\n",
       "      <td>-3.203269</td>\n",
       "      <td>-5.440189</td>\n",
       "      <td>6.065</td>\n",
       "      <td>-385.150457</td>\n",
       "      <td>635.211486</td>\n",
       "      <td>-5.984257</td>\n",
       "      <td>953.866685</td>\n",
       "      <td>1.709808</td>\n",
       "      <td>0.071569</td>\n",
       "      <td>-251.63679</td>\n",
       "      <td>198.47</td>\n",
       "    </tr>\n",
       "    <tr>\n",
       "      <th>1598</th>\n",
       "      <td>1598</td>\n",
       "      <td>Hufflepuff</td>\n",
       "      <td>Charlotte</td>\n",
       "      <td>Dillon</td>\n",
       "      <td>2001-09-21</td>\n",
       "      <td>Left</td>\n",
       "      <td>82713.0</td>\n",
       "      <td>453.676219</td>\n",
       "      <td>3.442831</td>\n",
       "      <td>-4.536762</td>\n",
       "      <td>6.738</td>\n",
       "      <td>-831.741123</td>\n",
       "      <td>383.444937</td>\n",
       "      <td>3.813111</td>\n",
       "      <td>1087.949205</td>\n",
       "      <td>3.904100</td>\n",
       "      <td>-0.531875</td>\n",
       "      <td>-246.19072</td>\n",
       "      <td>-76.81</td>\n",
       "    </tr>\n",
       "    <tr>\n",
       "      <th>1599</th>\n",
       "      <td>1599</td>\n",
       "      <td>Hufflepuff</td>\n",
       "      <td>Kylie</td>\n",
       "      <td>Nowak</td>\n",
       "      <td>2000-08-21</td>\n",
       "      <td>Left</td>\n",
       "      <td>48639.0</td>\n",
       "      <td>688.911989</td>\n",
       "      <td>5.421046</td>\n",
       "      <td>-6.889120</td>\n",
       "      <td>6.593</td>\n",
       "      <td>-234.207911</td>\n",
       "      <td>339.775154</td>\n",
       "      <td>7.208415</td>\n",
       "      <td>1034.928004</td>\n",
       "      <td>2.052215</td>\n",
       "      <td>0.150532</td>\n",
       "      <td>-244.02063</td>\n",
       "      <td>-54.77</td>\n",
       "    </tr>\n",
       "  </tbody>\n",
       "</table>\n",
       "<p>1600 rows × 19 columns</p>\n",
       "</div>"
      ],
      "text/plain": [
       "      Index Hogwarts House First Name    Last Name    Birthday Best Hand  \\\n",
       "0         0      Ravenclaw     Tamara          Hsu  2000-03-30      Left   \n",
       "1         1      Slytherin      Erich      Paredes  1999-10-14     Right   \n",
       "2         2      Ravenclaw   Stephany        Braun  1999-11-03      Left   \n",
       "3         3     Gryffindor      Vesta    Mcmichael  2000-08-19      Left   \n",
       "4         4     Gryffindor     Gaston        Gibbs  1998-09-27      Left   \n",
       "...     ...            ...        ...          ...         ...       ...   \n",
       "1595   1595     Gryffindor       Jung        Blank  2001-09-14     Right   \n",
       "1596   1596      Slytherin     Shelli         Lock  1998-03-12      Left   \n",
       "1597   1597     Gryffindor   Benjamin  Christensen  1999-10-24     Right   \n",
       "1598   1598     Hufflepuff  Charlotte       Dillon  2001-09-21      Left   \n",
       "1599   1599     Hufflepuff      Kylie        Nowak  2000-08-21      Left   \n",
       "\n",
       "      Arithmancy   Astronomy  Herbology  Defense Against the Dark Arts  \\\n",
       "0        58384.0 -487.886086   5.727180                       4.878861   \n",
       "1        67239.0 -552.060507  -5.987446                       5.520605   \n",
       "2        23702.0 -366.076117   7.725017                       3.660761   \n",
       "3        32667.0  697.742809  -6.497214                      -6.977428   \n",
       "4        60158.0  436.775204  -7.820623                            NaN   \n",
       "...          ...         ...        ...                            ...   \n",
       "1595     49009.0  354.280086  -4.541837                      -3.542801   \n",
       "1596     63296.0  367.531174   6.061064                      -3.675312   \n",
       "1597     63905.0  544.018925  -3.203269                      -5.440189   \n",
       "1598     82713.0  453.676219   3.442831                      -4.536762   \n",
       "1599     48639.0  688.911989   5.421046                      -6.889120   \n",
       "\n",
       "      Divination  Muggle Studies  Ancient Runes  History of Magic  \\\n",
       "0          4.722      272.035831     532.484226          5.231058   \n",
       "1         -5.612     -487.340557     367.760303          4.107170   \n",
       "2          6.140      664.893521     602.585284          3.555579   \n",
       "3          4.026     -537.001128     523.982133         -4.809637   \n",
       "4          2.236     -444.262537     599.324514         -3.444377   \n",
       "...          ...             ...            ...               ...   \n",
       "1595       5.702     -497.235066     618.220213         -5.231721   \n",
       "1596       1.757     -643.271092     445.827565          2.238112   \n",
       "1597       6.065     -385.150457     635.211486         -5.984257   \n",
       "1598       6.738     -831.741123     383.444937          3.813111   \n",
       "1599       6.593     -234.207911     339.775154          7.208415   \n",
       "\n",
       "      Transfiguration   Potions  Care of Magical Creatures     Charms  Flying  \n",
       "0         1039.788281  3.790369                   0.715939 -232.79405  -26.89  \n",
       "1         1058.944592  7.248742                   0.091674 -252.18425 -113.45  \n",
       "2         1088.088348  8.728531                  -0.515327 -227.34265   30.42  \n",
       "3          920.391449  0.821911                  -0.014040 -256.84675  200.64  \n",
       "4          937.434724  4.311066                  -0.264070 -256.38730  157.98  \n",
       "...               ...       ...                        ...        ...     ...  \n",
       "1595       964.219853  3.389086                  -0.649983 -250.39401  185.83  \n",
       "1596      1056.147366  5.825263                  -0.333962 -246.42719   44.80  \n",
       "1597       953.866685  1.709808                   0.071569 -251.63679  198.47  \n",
       "1598      1087.949205  3.904100                  -0.531875 -246.19072  -76.81  \n",
       "1599      1034.928004  2.052215                   0.150532 -244.02063  -54.77  \n",
       "\n",
       "[1600 rows x 19 columns]"
      ]
     },
     "execution_count": 4,
     "metadata": {},
     "output_type": "execute_result"
    }
   ],
   "source": [
    "data"
   ]
  },
  {
   "cell_type": "code",
   "execution_count": 5,
   "id": "1f251e92",
   "metadata": {},
   "outputs": [
    {
     "name": "stdout",
     "output_type": "stream",
     "text": [
      "      Index Hogwarts House   Astronomy\n",
      "0         0      Ravenclaw -487.886086\n",
      "1         1      Slytherin -552.060507\n",
      "2         2      Ravenclaw -366.076117\n",
      "3         3     Gryffindor  697.742809\n",
      "4         4     Gryffindor  436.775204\n",
      "...     ...            ...         ...\n",
      "1595   1595     Gryffindor  354.280086\n",
      "1596   1596      Slytherin  367.531174\n",
      "1597   1597     Gryffindor  544.018925\n",
      "1598   1598     Hufflepuff  453.676219\n",
      "1599   1599     Hufflepuff  688.911989\n",
      "\n",
      "[1600 rows x 3 columns]\n",
      "['Gryffindor', 'Hufflepuff', 'Ravenclaw', 'Slytherin']\n",
      "['Arithmancy', 'Astronomy', 'Herbology', 'Defense Against the Dark Arts', 'Divination', 'Muggle Studies', 'Ancient Runes', 'History of Magic', 'Transfiguration', 'Potions', 'Care of Magical Creatures', 'Charms', 'Flying']\n"
     ]
    }
   ],
   "source": [
    "print(data[['Index', 'Hogwarts House', 'Astronomy']])\n",
    "print(compare_between)\n",
    "df_by_house = data[['Index', 'Hogwarts House', 'Astronomy']].groupby(\"Hogwarts House\")\n",
    "#df_by_subject = data.groupby('Arithmancy')\n",
    "print(compare_by)\n"
   ]
  },
  {
   "cell_type": "code",
   "execution_count": 6,
   "id": "01690076",
   "metadata": {},
   "outputs": [
    {
     "data": {
      "text/plain": [
       "[('Gryffindor',\n",
       "        Index Hogwarts House   Astronomy\n",
       "  3         3     Gryffindor  697.742809\n",
       "  4         4     Gryffindor  436.775204\n",
       "  6         6     Gryffindor  628.046051\n",
       "  8         8     Gryffindor  496.394945\n",
       "  16       16     Gryffindor  470.653757\n",
       "  ...     ...            ...         ...\n",
       "  1573   1573     Gryffindor  324.973343\n",
       "  1578   1578     Gryffindor  419.360183\n",
       "  1592   1592     Gryffindor  376.920722\n",
       "  1595   1595     Gryffindor  354.280086\n",
       "  1597   1597     Gryffindor  544.018925\n",
       "  \n",
       "  [327 rows x 3 columns]),\n",
       " ('Hufflepuff',\n",
       "        Index Hogwarts House   Astronomy\n",
       "  7         7     Hufflepuff  411.412727\n",
       "  9         9     Hufflepuff  527.193585\n",
       "  10       10     Hufflepuff  604.933962\n",
       "  11       11     Hufflepuff  438.556950\n",
       "  12       12     Hufflepuff  709.094614\n",
       "  ...     ...            ...         ...\n",
       "  1587   1587     Hufflepuff  511.749312\n",
       "  1589   1589     Hufflepuff  708.202206\n",
       "  1594   1594     Hufflepuff  599.901612\n",
       "  1598   1598     Hufflepuff  453.676219\n",
       "  1599   1599     Hufflepuff  688.911989\n",
       "  \n",
       "  [529 rows x 3 columns]),\n",
       " ('Ravenclaw',\n",
       "        Index Hogwarts House   Astronomy\n",
       "  0         0      Ravenclaw -487.886086\n",
       "  2         2      Ravenclaw -366.076117\n",
       "  14       14      Ravenclaw -197.527318\n",
       "  15       15      Ravenclaw -447.649812\n",
       "  18       18      Ravenclaw -151.088209\n",
       "  ...     ...            ...         ...\n",
       "  1576   1576      Ravenclaw -384.405691\n",
       "  1577   1577      Ravenclaw -626.623309\n",
       "  1582   1582      Ravenclaw -763.407257\n",
       "  1590   1590      Ravenclaw -569.513380\n",
       "  1593   1593      Ravenclaw -426.175401\n",
       "  \n",
       "  [443 rows x 3 columns]),\n",
       " ('Slytherin',\n",
       "        Index Hogwarts House   Astronomy\n",
       "  1         1      Slytherin -552.060507\n",
       "  5         5      Slytherin -613.687160\n",
       "  13       13      Slytherin -544.192049\n",
       "  26       26      Slytherin -419.022085\n",
       "  38       38      Slytherin -619.351572\n",
       "  ...     ...            ...         ...\n",
       "  1584   1584      Slytherin -347.982861\n",
       "  1586   1586      Slytherin -485.249736\n",
       "  1588   1588      Slytherin -492.510311\n",
       "  1591   1591      Slytherin -507.715746\n",
       "  1596   1596      Slytherin  367.531174\n",
       "  \n",
       "  [301 rows x 3 columns])]"
      ]
     },
     "execution_count": 6,
     "metadata": {},
     "output_type": "execute_result"
    }
   ],
   "source": [
    "list(df_by_house)"
   ]
  },
  {
   "cell_type": "code",
   "execution_count": 21,
   "id": "12255153",
   "metadata": {},
   "outputs": [
    {
     "data": {
      "image/png": "[encoded data removed]",
      "text/plain": [
       "<Figure size 432x288 with 1 Axes>"
      ]
     },
     "metadata": {
      "needs_background": "light"
     },
     "output_type": "display_data"
    },
    {
     "data": {
      "image/png": "[encoded data removed]",
      "text/plain": [
       "<Figure size 432x288 with 1 Axes>"
      ]
     },
     "metadata": {
      "needs_background": "light"
     },
     "output_type": "display_data"
    },
    {
     "data": {
      "image/png": "[encoded data removed]",
      "text/plain": [
       "<Figure size 432x288 with 1 Axes>"
      ]
     },
     "metadata": {
      "needs_background": "light"
     },
     "output_type": "display_data"
    },
    {
     "data": {
      "image/png": "[encoded data removed]",
      "text/plain": [
       "<Figure size 432x288 with 1 Axes>"
      ]
     },
     "metadata": {
      "needs_background": "light"
     },
     "output_type": "display_data"
    },
    {
     "data": {
      "image/png": "[encoded data removed]",
      "text/plain": [
       "<Figure size 432x288 with 1 Axes>"
      ]
     },
     "metadata": {
      "needs_background": "light"
     },
     "output_type": "display_data"
    },
    {
     "data": {
      "image/png": "[encoded data removed]",
      "text/plain": [
       "<Figure size 432x288 with 1 Axes>"
      ]
     },
     "metadata": {
      "needs_background": "light"
     },
     "output_type": "display_data"
    },
    {
     "data": {
      "image/png": "[encoded data removed]",
      "text/plain": [
       "<Figure size 432x288 with 1 Axes>"
      ]
     },
     "metadata": {
      "needs_background": "light"
     },
     "output_type": "display_data"
    },
    {
     "data": {
      "image/png": "[encoded data removed]",
      "text/plain": [
       "<Figure size 432x288 with 1 Axes>"
      ]
     },
     "metadata": {
      "needs_background": "light"
     },
     "output_type": "display_data"
    },
    {
     "data": {
      "image/png": "[encoded data removed]",
      "text/plain": [
       "<Figure size 432x288 with 1 Axes>"
      ]
     },
     "metadata": {
      "needs_background": "light"
     },
     "output_type": "display_data"
    },
    {
     "data": {
      "image/png": "[encoded data removed]",
      "text/plain": [
       "<Figure size 432x288 with 1 Axes>"
      ]
     },
     "metadata": {
      "needs_background": "light"
     },
     "output_type": "display_data"
    },
    {
     "data": {
      "image/png": "[encoded data removed]",
      "text/plain": [
       "<Figure size 432x288 with 1 Axes>"
      ]
     },
     "metadata": {
      "needs_background": "light"
     },
     "output_type": "display_data"
    },
    {
     "data": {
      "image/png": "[encoded data removed]",
      "text/plain": [
       "<Figure size 432x288 with 1 Axes>"
      ]
     },
     "metadata": {
      "needs_background": "light"
     },
     "output_type": "display_data"
    },
    {
     "data": {
      "image/png": "[encoded data removed]",
      "text/plain": [
       "<Figure size 432x288 with 1 Axes>"
      ]
     },
     "metadata": {
      "needs_background": "light"
     },
     "output_type": "display_data"
    }
   ],
   "source": [
    "import matplotlib.pyplot as plt\n",
    "\n",
    "\n",
    "for course in subjects:\n",
    "    d = data[[course, \"Hogwarts House\"]]\n",
    "    for h in data['Hogwarts House'].unique():\n",
    "        plt.hist(d[d['Hogwarts House'] == h][course], alpha=0.75, label=h)\n",
    "    plt.title(course)\n",
    "    plt.legend(loc='upper right')\n",
    "    plt.show()\n",
    "\n"
   ]
  },
  {
   "cell_type": "code",
   "execution_count": null,
   "id": "e20df335",
   "metadata": {},
   "outputs": [],
   "source": [
    "data."
   ]
  },
  {
   "cell_type": "code",
   "execution_count": null,
   "id": "19167ba7",
   "metadata": {},
   "outputs": [],
   "source": [
    "data"
   ]
  },
  {
   "cell_type": "code",
   "execution_count": null,
   "id": "c6015226",
   "metadata": {},
   "outputs": [],
   "source": [
    "Pivot = data.iloc[1:7]\n",
    "print(Pivot)\n",
    "Pivot = Pivot.melt(id_vars = ['Hogwarts House'], value_vars = subjects, var_name = 'Subject', value_name='Grades')\n",
    "print (Pivot)\n"
   ]
  },
  {
   "cell_type": "code",
   "execution_count": null,
   "id": "d92ba3c3",
   "metadata": {},
   "outputs": [],
   "source": [
    "pivoted = Pivot.pivot_table(Pivot, index = ['Hogwarts House'], columns=['Subject'], aggfunc='array')\n",
    "print (pivoted)\n",
    "#pivoted = data.pivot(data, index=new_index, columns=[\"Hogwarts House\"])"
   ]
  },
  {
   "cell_type": "code",
   "execution_count": null,
   "id": "75d2820f",
   "metadata": {},
   "outputs": [],
   "source": []
  },
  {
   "cell_type": "code",
   "execution_count": null,
   "id": "411ff270",
   "metadata": {},
   "outputs": [],
   "source": [
    "#new = {'Index': data['Index'],\n",
    "#      'Hogwarts House': data['Hogwarts House'],\n",
    " #     'First Name': data['First Name'],\n",
    "  #    'Last Name': data['Last Name'],\n",
    "   #   'Birthday': data['Birthday'],\n",
    "    #  'Best Hand': data['Best Hand'],\n",
    "     # 'Subject': ''}#\n",
    "#pd.DataFrame(new)\n",
    "new_index = pd.MultiIndex.from_product([data['Hogwarts House'].unique(),subjects], names=[\"Index\", \"Subjects\"])\n",
    "\n",
    "print(subjects.extend)\n",
    "\n",
    "#Notes = data.loc['Index', 'Arithmancy', 'Astronomy', 'Herbology',\n",
    "#       'Defense Against the Dark Arts', 'Divination', 'Muggle Studies',\n",
    "#       'Ancient Runes', 'History of Magic', 'Transfiguration', 'Potions',\n",
    "#       'Care of Magical Creatures', 'Charms', 'Flying']\n",
    "\n",
    "Notes = data[['Index', 'Hogwarts House','Arithmancy', 'Astronomy', 'Herbology',\n",
    "      'Defense Against the Dark Arts', 'Divination', 'Muggle Studies',\n",
    "       'Ancient Runes', 'History of Magic', 'Transfiguration', 'Potions',\n",
    "       'Care of Magical Creatures', 'Charms', 'Flying']]\n",
    "\n",
    "\n",
    "\n",
    "#print (Notes.T)\n",
    "Notes2 = data.iloc[1:3]\n",
    "\n",
    "#print (Notes2.groupby(['Hogwarts House', '']))\n",
    "\n",
    "#Notes2.plot.hist(b)\n",
    "\n",
    "Notes2 = data.melt(id_vars = ['Hogwarts House'], value_vars = subjects, var_name = 'Subject', value_name='Grades')\n",
    "\n",
    "test2 = Notes2.groupby(['Subject','Hogwarts House'])\n",
    "\n",
    "#print (test2.unstack())\n",
    "#print (test2['Subject'=='Arithmancy'])\n",
    "\n",
    "#for subject in subjects:\n",
    "test2['Subject'=='Arithmancy'].plot.hist(by='Subject')\n",
    "\n",
    "#print (test2.groups)\n",
    "\n",
    "#test2[['Hogwarts House']].plot.hist()\n",
    "\n",
    "#Notes = data.melt(id_vars = ['Hogwarts House'], value_vars = subjects, var_name = 'Subject', value_name='Grades')\n",
    "#Notes2 = Notes2.melt(id_vars = ['Index','Hogwarts House'], value_vars = subjects, var_name = 'Subject', value_name='Grades')\n",
    "\n",
    "#print (Notes2[['Hogwarts House', 'Grades']])\n",
    "\n",
    "#Notes2[['Hogwarts House', 'Grades']].hist(by=\"Hogwarts House\", column='Grades')\n",
    "#tab = Notes2.iloc[:,['Hogwarts House', 'Grades']]\n",
    "\n",
    "\n",
    "#print (tab)\n",
    "\n",
    "#print (Notes2.groupby(['Hogwarts House', 'Notes']).groups)\n",
    "\n",
    "\n",
    "#pivot = data.pivot(index=\"Index\", columns=\"\")\n",
    "#pivoted = data.pivot(data, index=new_index, columns=[\"Hogwarts House\"])\n",
    "#pivoted\n"
   ]
  },
  {
   "cell_type": "code",
   "execution_count": null,
   "id": "88fb58d1",
   "metadata": {},
   "outputs": [],
   "source": [
    "#du = Notes2.groupby(by = ['Grades','Hogwarts House'])\n",
    "\n",
    "#print(du.groups)\n",
    "\n",
    "#tit = du['Subject'].T.unstack()\n",
    "\n",
    "\n",
    "#tit.hist()\n",
    "#du.hist(column='Grades')\n",
    "#pivoted = Notes.pivot_table(index=\"Grades\", columns=\"Hogwarts House\", aggfunc=len, fill_value=0)\n",
    "#pivoted['Subject']\n",
    "\n",
    "#histogram(column)\n",
    "#histogram = pivoted['Subject'].hist()\n",
    "#Notes2.hist(index=\"\")"
   ]
  },
  {
   "cell_type": "code",
   "execution_count": null,
   "id": "59909395",
   "metadata": {},
   "outputs": [],
   "source": [
    "data['Hogwarts House'].unique()"
   ]
  },
  {
   "cell_type": "code",
   "execution_count": null,
   "id": "3d74780f",
   "metadata": {
    "scrolled": true
   },
   "outputs": [],
   "source": [
    "data_grp.groups"
   ]
  },
  {
   "cell_type": "code",
   "execution_count": null,
   "id": "5be86f67",
   "metadata": {},
   "outputs": [],
   "source": [
    "def myvar(col):\n",
    "    mean = mymean(col)\n",
    "    c = mycount(col)\n",
    "    if not c or c < 2:\n",
    "        return numpy.nan\n",
    "\n",
    "    for e in col:\n",
    "        mysum += e - mean\n",
    "    return mysum/(c - 1)"
   ]
  },
  {
   "cell_type": "code",
   "execution_count": null,
   "id": "a489e2b9",
   "metadata": {},
   "outputs": [],
   "source": [
    "subjects = ['Arithmancy', 'Astronomy', 'Herbology',\n",
    "       'Defense Against the Dark Arts', 'Divination', 'Muggle Studies',\n",
    "       'Ancient Runes', 'History of Magic', 'Transfiguration', 'Potions',\n",
    "       'Care of Magical Creatures', 'Charms', 'Flying']\n",
    "new_index = pd.MultiIndex.from_product([subject, houses], names=[\"Index\", \"Subject\"])\n",
    "print (new_index)"
   ]
  },
  {
   "cell_type": "code",
   "execution_count": null,
   "id": "93b78430",
   "metadata": {},
   "outputs": [],
   "source": [
    "data"
   ]
  }
 ],
 "metadata": {
  "kernelspec": {
   "display_name": "Python 3",
   "language": "python",
   "name": "python3"
  },
  "language_info": {
   "codemirror_mode": {
    "name": "ipython",
    "version": 3
   },
   "file_extension": ".py",
   "mimetype": "text/x-python",
   "name": "python",
   "nbconvert_exporter": "python",
   "pygments_lexer": "ipython3",
   "version": "3.9.5"
  }
 },
 "nbformat": 4,
 "nbformat_minor": 5
}
